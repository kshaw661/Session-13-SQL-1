{
 "cells": [
  {
   "cell_type": "code",
   "execution_count": 1,
   "metadata": {},
   "outputs": [],
   "source": [
    "# import the library SQLite\n",
    "import sqlite3\n",
    "\n",
    "# Load our regular libraries\n",
    "import pandas as pd\n",
    "import numpy as np\n",
    "import matplotlib.pyplot as plt\n",
    "import seaborn as sns\n",
    "from IPython.display import display"
   ]
  },
  {
   "cell_type": "code",
   "execution_count": 3,
   "metadata": {},
   "outputs": [
    {
     "data": {
      "text/html": [
       "<div>\n",
       "<style scoped>\n",
       "    .dataframe tbody tr th:only-of-type {\n",
       "        vertical-align: middle;\n",
       "    }\n",
       "\n",
       "    .dataframe tbody tr th {\n",
       "        vertical-align: top;\n",
       "    }\n",
       "\n",
       "    .dataframe thead th {\n",
       "        text-align: right;\n",
       "    }\n",
       "</style>\n",
       "<table border=\"1\" class=\"dataframe\">\n",
       "  <thead>\n",
       "    <tr style=\"text-align: right;\">\n",
       "      <th></th>\n",
       "      <th>39</th>\n",
       "      <th>State-gov</th>\n",
       "      <th>77516</th>\n",
       "      <th>Bachelors</th>\n",
       "      <th>13</th>\n",
       "      <th>Never-married</th>\n",
       "      <th>Adm-clerical</th>\n",
       "      <th>Not-in-family</th>\n",
       "      <th>White</th>\n",
       "      <th>Male</th>\n",
       "      <th>2174</th>\n",
       "      <th>0</th>\n",
       "      <th>40</th>\n",
       "      <th>United-States</th>\n",
       "      <th>&lt;=50K</th>\n",
       "    </tr>\n",
       "  </thead>\n",
       "  <tbody>\n",
       "    <tr>\n",
       "      <th>0</th>\n",
       "      <td>50</td>\n",
       "      <td>Self-emp-not-inc</td>\n",
       "      <td>83311</td>\n",
       "      <td>Bachelors</td>\n",
       "      <td>13</td>\n",
       "      <td>Married-civ-spouse</td>\n",
       "      <td>Exec-managerial</td>\n",
       "      <td>Husband</td>\n",
       "      <td>White</td>\n",
       "      <td>Male</td>\n",
       "      <td>0</td>\n",
       "      <td>0</td>\n",
       "      <td>13</td>\n",
       "      <td>United-States</td>\n",
       "      <td>&lt;=50K</td>\n",
       "    </tr>\n",
       "    <tr>\n",
       "      <th>1</th>\n",
       "      <td>38</td>\n",
       "      <td>Private</td>\n",
       "      <td>215646</td>\n",
       "      <td>HS-grad</td>\n",
       "      <td>9</td>\n",
       "      <td>Divorced</td>\n",
       "      <td>Handlers-cleaners</td>\n",
       "      <td>Not-in-family</td>\n",
       "      <td>White</td>\n",
       "      <td>Male</td>\n",
       "      <td>0</td>\n",
       "      <td>0</td>\n",
       "      <td>40</td>\n",
       "      <td>United-States</td>\n",
       "      <td>&lt;=50K</td>\n",
       "    </tr>\n",
       "    <tr>\n",
       "      <th>2</th>\n",
       "      <td>53</td>\n",
       "      <td>Private</td>\n",
       "      <td>234721</td>\n",
       "      <td>11th</td>\n",
       "      <td>7</td>\n",
       "      <td>Married-civ-spouse</td>\n",
       "      <td>Handlers-cleaners</td>\n",
       "      <td>Husband</td>\n",
       "      <td>Black</td>\n",
       "      <td>Male</td>\n",
       "      <td>0</td>\n",
       "      <td>0</td>\n",
       "      <td>40</td>\n",
       "      <td>United-States</td>\n",
       "      <td>&lt;=50K</td>\n",
       "    </tr>\n",
       "    <tr>\n",
       "      <th>3</th>\n",
       "      <td>28</td>\n",
       "      <td>Private</td>\n",
       "      <td>338409</td>\n",
       "      <td>Bachelors</td>\n",
       "      <td>13</td>\n",
       "      <td>Married-civ-spouse</td>\n",
       "      <td>Prof-specialty</td>\n",
       "      <td>Wife</td>\n",
       "      <td>Black</td>\n",
       "      <td>Female</td>\n",
       "      <td>0</td>\n",
       "      <td>0</td>\n",
       "      <td>40</td>\n",
       "      <td>Cuba</td>\n",
       "      <td>&lt;=50K</td>\n",
       "    </tr>\n",
       "    <tr>\n",
       "      <th>4</th>\n",
       "      <td>37</td>\n",
       "      <td>Private</td>\n",
       "      <td>284582</td>\n",
       "      <td>Masters</td>\n",
       "      <td>14</td>\n",
       "      <td>Married-civ-spouse</td>\n",
       "      <td>Exec-managerial</td>\n",
       "      <td>Wife</td>\n",
       "      <td>White</td>\n",
       "      <td>Female</td>\n",
       "      <td>0</td>\n",
       "      <td>0</td>\n",
       "      <td>40</td>\n",
       "      <td>United-States</td>\n",
       "      <td>&lt;=50K</td>\n",
       "    </tr>\n",
       "  </tbody>\n",
       "</table>\n",
       "</div>"
      ],
      "text/plain": [
       "   39          State-gov   77516   Bachelors   13        Never-married  \\\n",
       "0  50   Self-emp-not-inc   83311   Bachelors   13   Married-civ-spouse   \n",
       "1  38            Private  215646     HS-grad    9             Divorced   \n",
       "2  53            Private  234721        11th    7   Married-civ-spouse   \n",
       "3  28            Private  338409   Bachelors   13   Married-civ-spouse   \n",
       "4  37            Private  284582     Masters   14   Married-civ-spouse   \n",
       "\n",
       "         Adm-clerical   Not-in-family   White     Male   2174   0   40  \\\n",
       "0     Exec-managerial         Husband   White     Male      0   0   13   \n",
       "1   Handlers-cleaners   Not-in-family   White     Male      0   0   40   \n",
       "2   Handlers-cleaners         Husband   Black     Male      0   0   40   \n",
       "3      Prof-specialty            Wife   Black   Female      0   0   40   \n",
       "4     Exec-managerial            Wife   White   Female      0   0   40   \n",
       "\n",
       "    United-States   <=50K  \n",
       "0   United-States   <=50K  \n",
       "1   United-States   <=50K  \n",
       "2   United-States   <=50K  \n",
       "3            Cuba   <=50K  \n",
       "4   United-States   <=50K  "
      ]
     },
     "metadata": {},
     "output_type": "display_data"
    }
   ],
   "source": [
    "adult_data_df = pd.read_csv('https://archive.ics.uci.edu/ml/machine-learning-databases/adult/adult.data')\n",
    "#adult_data_df = pd.read_csv('adult.data')\n",
    "display(adult_data_df.head(5))"
   ]
  },
  {
   "cell_type": "code",
   "execution_count": 4,
   "metadata": {},
   "outputs": [
    {
     "data": {
      "text/html": [
       "<div>\n",
       "<style scoped>\n",
       "    .dataframe tbody tr th:only-of-type {\n",
       "        vertical-align: middle;\n",
       "    }\n",
       "\n",
       "    .dataframe tbody tr th {\n",
       "        vertical-align: top;\n",
       "    }\n",
       "\n",
       "    .dataframe thead th {\n",
       "        text-align: right;\n",
       "    }\n",
       "</style>\n",
       "<table border=\"1\" class=\"dataframe\">\n",
       "  <thead>\n",
       "    <tr style=\"text-align: right;\">\n",
       "      <th></th>\n",
       "      <th>age</th>\n",
       "      <th>workclass</th>\n",
       "      <th>fnlwgt</th>\n",
       "      <th>education</th>\n",
       "      <th>education_num</th>\n",
       "      <th>marital_status</th>\n",
       "      <th>occupation</th>\n",
       "      <th>relationship</th>\n",
       "      <th>race</th>\n",
       "      <th>sex</th>\n",
       "      <th>capital_gain</th>\n",
       "      <th>capital_loss</th>\n",
       "      <th>hours_per_week</th>\n",
       "      <th>native_country</th>\n",
       "      <th>income</th>\n",
       "    </tr>\n",
       "  </thead>\n",
       "  <tbody>\n",
       "    <tr>\n",
       "      <th>0</th>\n",
       "      <td>50</td>\n",
       "      <td>Self-emp-not-inc</td>\n",
       "      <td>83311</td>\n",
       "      <td>Bachelors</td>\n",
       "      <td>13</td>\n",
       "      <td>Married-civ-spouse</td>\n",
       "      <td>Exec-managerial</td>\n",
       "      <td>Husband</td>\n",
       "      <td>White</td>\n",
       "      <td>Male</td>\n",
       "      <td>0</td>\n",
       "      <td>0</td>\n",
       "      <td>13</td>\n",
       "      <td>United-States</td>\n",
       "      <td>&lt;=50K</td>\n",
       "    </tr>\n",
       "    <tr>\n",
       "      <th>1</th>\n",
       "      <td>38</td>\n",
       "      <td>Private</td>\n",
       "      <td>215646</td>\n",
       "      <td>HS-grad</td>\n",
       "      <td>9</td>\n",
       "      <td>Divorced</td>\n",
       "      <td>Handlers-cleaners</td>\n",
       "      <td>Not-in-family</td>\n",
       "      <td>White</td>\n",
       "      <td>Male</td>\n",
       "      <td>0</td>\n",
       "      <td>0</td>\n",
       "      <td>40</td>\n",
       "      <td>United-States</td>\n",
       "      <td>&lt;=50K</td>\n",
       "    </tr>\n",
       "    <tr>\n",
       "      <th>2</th>\n",
       "      <td>53</td>\n",
       "      <td>Private</td>\n",
       "      <td>234721</td>\n",
       "      <td>11th</td>\n",
       "      <td>7</td>\n",
       "      <td>Married-civ-spouse</td>\n",
       "      <td>Handlers-cleaners</td>\n",
       "      <td>Husband</td>\n",
       "      <td>Black</td>\n",
       "      <td>Male</td>\n",
       "      <td>0</td>\n",
       "      <td>0</td>\n",
       "      <td>40</td>\n",
       "      <td>United-States</td>\n",
       "      <td>&lt;=50K</td>\n",
       "    </tr>\n",
       "    <tr>\n",
       "      <th>3</th>\n",
       "      <td>28</td>\n",
       "      <td>Private</td>\n",
       "      <td>338409</td>\n",
       "      <td>Bachelors</td>\n",
       "      <td>13</td>\n",
       "      <td>Married-civ-spouse</td>\n",
       "      <td>Prof-specialty</td>\n",
       "      <td>Wife</td>\n",
       "      <td>Black</td>\n",
       "      <td>Female</td>\n",
       "      <td>0</td>\n",
       "      <td>0</td>\n",
       "      <td>40</td>\n",
       "      <td>Cuba</td>\n",
       "      <td>&lt;=50K</td>\n",
       "    </tr>\n",
       "    <tr>\n",
       "      <th>4</th>\n",
       "      <td>37</td>\n",
       "      <td>Private</td>\n",
       "      <td>284582</td>\n",
       "      <td>Masters</td>\n",
       "      <td>14</td>\n",
       "      <td>Married-civ-spouse</td>\n",
       "      <td>Exec-managerial</td>\n",
       "      <td>Wife</td>\n",
       "      <td>White</td>\n",
       "      <td>Female</td>\n",
       "      <td>0</td>\n",
       "      <td>0</td>\n",
       "      <td>40</td>\n",
       "      <td>United-States</td>\n",
       "      <td>&lt;=50K</td>\n",
       "    </tr>\n",
       "  </tbody>\n",
       "</table>\n",
       "</div>"
      ],
      "text/plain": [
       "   age          workclass  fnlwgt   education  education_num  \\\n",
       "0   50   Self-emp-not-inc   83311   Bachelors             13   \n",
       "1   38            Private  215646     HS-grad              9   \n",
       "2   53            Private  234721        11th              7   \n",
       "3   28            Private  338409   Bachelors             13   \n",
       "4   37            Private  284582     Masters             14   \n",
       "\n",
       "        marital_status          occupation    relationship    race      sex  \\\n",
       "0   Married-civ-spouse     Exec-managerial         Husband   White     Male   \n",
       "1             Divorced   Handlers-cleaners   Not-in-family   White     Male   \n",
       "2   Married-civ-spouse   Handlers-cleaners         Husband   Black     Male   \n",
       "3   Married-civ-spouse      Prof-specialty            Wife   Black   Female   \n",
       "4   Married-civ-spouse     Exec-managerial            Wife   White   Female   \n",
       "\n",
       "   capital_gain  capital_loss  hours_per_week  native_country  income  \n",
       "0             0             0              13   United-States   <=50K  \n",
       "1             0             0              40   United-States   <=50K  \n",
       "2             0             0              40   United-States   <=50K  \n",
       "3             0             0              40            Cuba   <=50K  \n",
       "4             0             0              40   United-States   <=50K  "
      ]
     },
     "metadata": {},
     "output_type": "display_data"
    }
   ],
   "source": [
    "adult_data_df.columns =[\"age\",\"workclass\",\"fnlwgt\",\"education\",\"education_num\",\"marital_status\",\"occupation\",\"relationship\",\"race\",\"sex\",\"capital_gain\",\"capital_loss\",\"hours_per_week\",\"native_country\",\"income\"]\n",
    "display(adult_data_df.head(5))"
   ]
  },
  {
   "cell_type": "code",
   "execution_count": 5,
   "metadata": {},
   "outputs": [],
   "source": [
    "import sqlalchemy\n",
    "\n",
    "from sqlalchemy import create_engine\n",
    "\n",
    "engine = create_engine('sqlite:///sqladb', echo=True)"
   ]
  },
  {
   "cell_type": "code",
   "execution_count": 6,
   "metadata": {},
   "outputs": [
    {
     "name": "stdout",
     "output_type": "stream",
     "text": [
      "2018-08-18 23:59:20,687 INFO sqlalchemy.engine.base.Engine SELECT CAST('test plain returns' AS VARCHAR(60)) AS anon_1\n",
      "2018-08-18 23:59:20,716 INFO sqlalchemy.engine.base.Engine ()\n",
      "2018-08-18 23:59:20,721 INFO sqlalchemy.engine.base.Engine SELECT CAST('test unicode returns' AS VARCHAR(60)) AS anon_1\n",
      "2018-08-18 23:59:20,727 INFO sqlalchemy.engine.base.Engine ()\n",
      "2018-08-18 23:59:20,736 INFO sqlalchemy.engine.base.Engine PRAGMA table_info(\"sqladb\")\n",
      "2018-08-18 23:59:20,741 INFO sqlalchemy.engine.base.Engine ()\n",
      "2018-08-18 23:59:20,768 INFO sqlalchemy.engine.base.Engine \n",
      "CREATE TABLE sqladb (\n",
      "\t\"index\" BIGINT, \n",
      "\tage BIGINT, \n",
      "\tworkclass TEXT, \n",
      "\tfnlwgt BIGINT, \n",
      "\teducation TEXT, \n",
      "\teducation_num BIGINT, \n",
      "\tmarital_status TEXT, \n",
      "\toccupation TEXT, \n",
      "\trelationship TEXT, \n",
      "\trace TEXT, \n",
      "\tsex TEXT, \n",
      "\tcapital_gain BIGINT, \n",
      "\tcapital_loss BIGINT, \n",
      "\thours_per_week BIGINT, \n",
      "\tnative_country TEXT, \n",
      "\tincome TEXT\n",
      ")\n",
      "\n",
      "\n",
      "2018-08-18 23:59:20,777 INFO sqlalchemy.engine.base.Engine ()\n",
      "2018-08-18 23:59:20,935 INFO sqlalchemy.engine.base.Engine COMMIT\n",
      "2018-08-18 23:59:20,941 INFO sqlalchemy.engine.base.Engine CREATE INDEX ix_sqladb_index ON sqladb (\"index\")\n",
      "2018-08-18 23:59:20,949 INFO sqlalchemy.engine.base.Engine ()\n",
      "2018-08-18 23:59:21,130 INFO sqlalchemy.engine.base.Engine COMMIT\n",
      "2018-08-18 23:59:21,186 INFO sqlalchemy.engine.base.Engine BEGIN (implicit)\n",
      "2018-08-18 23:59:22,088 INFO sqlalchemy.engine.base.Engine INSERT INTO sqladb (\"index\", age, workclass, fnlwgt, education, education_num, marital_status, occupation, relationship, race, sex, capital_gain, capital_loss, hours_per_week, native_country, income) VALUES (?, ?, ?, ?, ?, ?, ?, ?, ?, ?, ?, ?, ?, ?, ?, ?)\n",
      "2018-08-18 23:59:22,090 INFO sqlalchemy.engine.base.Engine ((0, 50, ' Self-emp-not-inc', 83311, ' Bachelors', 13, ' Married-civ-spouse', ' Exec-managerial', ' Husband', ' White', ' Male', 0, 0, 13, ' United-States', ' <=50K'), (1, 38, ' Private', 215646, ' HS-grad', 9, ' Divorced', ' Handlers-cleaners', ' Not-in-family', ' White', ' Male', 0, 0, 40, ' United-States', ' <=50K'), (2, 53, ' Private', 234721, ' 11th', 7, ' Married-civ-spouse', ' Handlers-cleaners', ' Husband', ' Black', ' Male', 0, 0, 40, ' United-States', ' <=50K'), (3, 28, ' Private', 338409, ' Bachelors', 13, ' Married-civ-spouse', ' Prof-specialty', ' Wife', ' Black', ' Female', 0, 0, 40, ' Cuba', ' <=50K'), (4, 37, ' Private', 284582, ' Masters', 14, ' Married-civ-spouse', ' Exec-managerial', ' Wife', ' White', ' Female', 0, 0, 40, ' United-States', ' <=50K'), (5, 49, ' Private', 160187, ' 9th', 5, ' Married-spouse-absent', ' Other-service', ' Not-in-family', ' Black', ' Female', 0, 0, 16, ' Jamaica', ' <=50K'), (6, 52, ' Self-emp-not-inc', 209642, ' HS-grad', 9, ' Married-civ-spouse', ' Exec-managerial', ' Husband', ' White', ' Male', 0, 0, 45, ' United-States', ' >50K'), (7, 31, ' Private', 45781, ' Masters', 14, ' Never-married', ' Prof-specialty', ' Not-in-family', ' White', ' Female', 14084, 0, 50, ' United-States', ' >50K')  ... displaying 10 of 32560 total bound parameter sets ...  (32558, 22, ' Private', 201490, ' HS-grad', 9, ' Never-married', ' Adm-clerical', ' Own-child', ' White', ' Male', 0, 0, 20, ' United-States', ' <=50K'), (32559, 52, ' Self-emp-inc', 287927, ' HS-grad', 9, ' Married-civ-spouse', ' Exec-managerial', ' Wife', ' White', ' Female', 15024, 0, 40, ' United-States', ' >50K'))\n",
      "2018-08-18 23:59:22,469 INFO sqlalchemy.engine.base.Engine COMMIT\n"
     ]
    }
   ],
   "source": [
    "adult_data_df.to_sql('sqladb', engine, if_exists='replace')"
   ]
  },
  {
   "cell_type": "code",
   "execution_count": 7,
   "metadata": {},
   "outputs": [
    {
     "data": {
      "text/plain": [
       "[(0, 'index', 'BIGINT', 0, None, 0),\n",
       " (1, 'age', 'BIGINT', 0, None, 0),\n",
       " (2, 'workclass', 'TEXT', 0, None, 0),\n",
       " (3, 'fnlwgt', 'BIGINT', 0, None, 0),\n",
       " (4, 'education', 'TEXT', 0, None, 0),\n",
       " (5, 'education_num', 'BIGINT', 0, None, 0),\n",
       " (6, 'marital_status', 'TEXT', 0, None, 0),\n",
       " (7, 'occupation', 'TEXT', 0, None, 0),\n",
       " (8, 'relationship', 'TEXT', 0, None, 0),\n",
       " (9, 'race', 'TEXT', 0, None, 0),\n",
       " (10, 'sex', 'TEXT', 0, None, 0),\n",
       " (11, 'capital_gain', 'BIGINT', 0, None, 0),\n",
       " (12, 'capital_loss', 'BIGINT', 0, None, 0),\n",
       " (13, 'hours_per_week', 'BIGINT', 0, None, 0),\n",
       " (14, 'native_country', 'TEXT', 0, None, 0),\n",
       " (15, 'income', 'TEXT', 0, None, 0)]"
      ]
     },
     "execution_count": 7,
     "metadata": {},
     "output_type": "execute_result"
    }
   ],
   "source": [
    "connection = sqlite3.connect(\"sqladb\")\n",
    "cursor = connection.cursor()\n",
    "cursor.execute('PRAGMA TABLE_INFO({})'.format(\"sqladb\"))\n",
    "cursor.fetchall()"
   ]
  },
  {
   "cell_type": "code",
   "execution_count": 8,
   "metadata": {},
   "outputs": [
    {
     "data": {
      "text/plain": [
       "[(32560,)]"
      ]
     },
     "execution_count": 8,
     "metadata": {},
     "output_type": "execute_result"
    }
   ],
   "source": [
    "cursor.execute('SELECT COUNT(*) FROM {}'.format(\"sqladb\"))\n",
    "cursor.fetchall()\n"
   ]
  },
  {
   "cell_type": "code",
   "execution_count": 9,
   "metadata": {},
   "outputs": [
    {
     "name": "stdout",
     "output_type": "stream",
     "text": [
      "   index  age          workclass  fnlwgt      education  education_num  \\\n",
      "0      0   50   Self-emp-not-inc   83311      Bachelors             13   \n",
      "1      1   38            Private  215646        HS-grad              9   \n",
      "2      2   53            Private  234721           11th              7   \n",
      "3      3   28            Private  338409      Bachelors             13   \n",
      "4      4   37            Private  284582        Masters             14   \n",
      "5      5   49            Private  160187            9th              5   \n",
      "6      6   52   Self-emp-not-inc  209642        HS-grad              9   \n",
      "7      7   31            Private   45781        Masters             14   \n",
      "8      8   42            Private  159449      Bachelors             13   \n",
      "9      9   37            Private  280464   Some-college             10   \n",
      "\n",
      "           marital_status          occupation    relationship    race  \\\n",
      "0      Married-civ-spouse     Exec-managerial         Husband   White   \n",
      "1                Divorced   Handlers-cleaners   Not-in-family   White   \n",
      "2      Married-civ-spouse   Handlers-cleaners         Husband   Black   \n",
      "3      Married-civ-spouse      Prof-specialty            Wife   Black   \n",
      "4      Married-civ-spouse     Exec-managerial            Wife   White   \n",
      "5   Married-spouse-absent       Other-service   Not-in-family   Black   \n",
      "6      Married-civ-spouse     Exec-managerial         Husband   White   \n",
      "7           Never-married      Prof-specialty   Not-in-family   White   \n",
      "8      Married-civ-spouse     Exec-managerial         Husband   White   \n",
      "9      Married-civ-spouse     Exec-managerial         Husband   Black   \n",
      "\n",
      "       sex  capital_gain  capital_loss  hours_per_week  native_country  income  \n",
      "0     Male             0             0              13   United-States   <=50K  \n",
      "1     Male             0             0              40   United-States   <=50K  \n",
      "2     Male             0             0              40   United-States   <=50K  \n",
      "3   Female             0             0              40            Cuba   <=50K  \n",
      "4   Female             0             0              40   United-States   <=50K  \n",
      "5   Female             0             0              16         Jamaica   <=50K  \n",
      "6     Male             0             0              45   United-States    >50K  \n",
      "7   Female         14084             0              50   United-States    >50K  \n",
      "8     Male          5178             0              40   United-States    >50K  \n",
      "9     Male             0             0              80   United-States    >50K  \n"
     ]
    }
   ],
   "source": [
    "print(pd.read_sql_query('SELECT * FROM sqladb limit 10', connection))"
   ]
  },
  {
   "cell_type": "code",
   "execution_count": 10,
   "metadata": {},
   "outputs": [
    {
     "data": {
      "text/html": [
       "<div>\n",
       "<style scoped>\n",
       "    .dataframe tbody tr th:only-of-type {\n",
       "        vertical-align: middle;\n",
       "    }\n",
       "\n",
       "    .dataframe tbody tr th {\n",
       "        vertical-align: top;\n",
       "    }\n",
       "\n",
       "    .dataframe thead th {\n",
       "        text-align: right;\n",
       "    }\n",
       "</style>\n",
       "<table border=\"1\" class=\"dataframe\">\n",
       "  <thead>\n",
       "    <tr style=\"text-align: right;\">\n",
       "      <th></th>\n",
       "      <th>age</th>\n",
       "      <th>workclass</th>\n",
       "      <th>fnlwgt</th>\n",
       "      <th>education</th>\n",
       "      <th>education_num</th>\n",
       "      <th>marital_status</th>\n",
       "      <th>occupation</th>\n",
       "      <th>relationship</th>\n",
       "      <th>race</th>\n",
       "      <th>sex</th>\n",
       "      <th>capital_gain</th>\n",
       "      <th>capital_loss</th>\n",
       "      <th>hours_per_week</th>\n",
       "      <th>native_country</th>\n",
       "      <th>income</th>\n",
       "    </tr>\n",
       "  </thead>\n",
       "  <tbody>\n",
       "    <tr>\n",
       "      <th>0</th>\n",
       "      <td>50</td>\n",
       "      <td>Self-emp-not-inc</td>\n",
       "      <td>83311</td>\n",
       "      <td>Bachelors</td>\n",
       "      <td>13</td>\n",
       "      <td>Married-civ-spouse</td>\n",
       "      <td>Exec-managerial</td>\n",
       "      <td>Husband</td>\n",
       "      <td>White</td>\n",
       "      <td>Male</td>\n",
       "      <td>0</td>\n",
       "      <td>0</td>\n",
       "      <td>13</td>\n",
       "      <td>United-States</td>\n",
       "      <td>&lt;=50K</td>\n",
       "    </tr>\n",
       "    <tr>\n",
       "      <th>1</th>\n",
       "      <td>38</td>\n",
       "      <td>Private</td>\n",
       "      <td>215646</td>\n",
       "      <td>HS-grad</td>\n",
       "      <td>9</td>\n",
       "      <td>Divorced</td>\n",
       "      <td>Handlers-cleaners</td>\n",
       "      <td>Not-in-family</td>\n",
       "      <td>White</td>\n",
       "      <td>Male</td>\n",
       "      <td>0</td>\n",
       "      <td>0</td>\n",
       "      <td>40</td>\n",
       "      <td>United-States</td>\n",
       "      <td>&lt;=50K</td>\n",
       "    </tr>\n",
       "    <tr>\n",
       "      <th>2</th>\n",
       "      <td>53</td>\n",
       "      <td>Private</td>\n",
       "      <td>234721</td>\n",
       "      <td>11th</td>\n",
       "      <td>7</td>\n",
       "      <td>Married-civ-spouse</td>\n",
       "      <td>Handlers-cleaners</td>\n",
       "      <td>Husband</td>\n",
       "      <td>Black</td>\n",
       "      <td>Male</td>\n",
       "      <td>0</td>\n",
       "      <td>0</td>\n",
       "      <td>40</td>\n",
       "      <td>United-States</td>\n",
       "      <td>&lt;=50K</td>\n",
       "    </tr>\n",
       "  </tbody>\n",
       "</table>\n",
       "</div>"
      ],
      "text/plain": [
       "   age          workclass  fnlwgt   education  education_num  \\\n",
       "0   50   Self-emp-not-inc   83311   Bachelors             13   \n",
       "1   38            Private  215646     HS-grad              9   \n",
       "2   53            Private  234721        11th              7   \n",
       "\n",
       "        marital_status          occupation    relationship    race    sex  \\\n",
       "0   Married-civ-spouse     Exec-managerial         Husband   White   Male   \n",
       "1             Divorced   Handlers-cleaners   Not-in-family   White   Male   \n",
       "2   Married-civ-spouse   Handlers-cleaners         Husband   Black   Male   \n",
       "\n",
       "   capital_gain  capital_loss  hours_per_week  native_country  income  \n",
       "0             0             0              13   United-States   <=50K  \n",
       "1             0             0              40   United-States   <=50K  \n",
       "2             0             0              40   United-States   <=50K  "
      ]
     },
     "metadata": {},
     "output_type": "display_data"
    }
   ],
   "source": [
    "display(adult_data_df.head(3))"
   ]
  },
  {
   "cell_type": "code",
   "execution_count": 11,
   "metadata": {},
   "outputs": [
    {
     "name": "stdout",
     "output_type": "stream",
     "text": [
      "[(40.267095523440254,)]\n"
     ]
    }
   ],
   "source": [
    "cursor.execute('SELECT avg(hours_per_week) FROM sqladb WHERE workclass=\" Private\"')\n",
    "output = cursor.fetchall()\n",
    "print(output)"
   ]
  },
  {
   "cell_type": "code",
   "execution_count": 12,
   "metadata": {},
   "outputs": [
    {
     "data": {
      "text/plain": [
       "[(' 10th', 933),\n",
       " (' 11th', 1175),\n",
       " (' 12th', 433),\n",
       " (' 1st-4th', 168),\n",
       " (' 5th-6th', 333),\n",
       " (' 7th-8th', 646),\n",
       " (' 9th', 514),\n",
       " (' Assoc-acdm', 1067),\n",
       " (' Assoc-voc', 1382),\n",
       " (' Bachelors', 5354),\n",
       " (' Doctorate', 413),\n",
       " (' HS-grad', 10501),\n",
       " (' Masters', 1723),\n",
       " (' Preschool', 51),\n",
       " (' Prof-school', 576),\n",
       " (' Some-college', 7291)]"
      ]
     },
     "metadata": {},
     "output_type": "display_data"
    }
   ],
   "source": [
    "cursor.execute('SELECT education, COUNT(*) FROM sqladb GROUP BY education')\n",
    "output = cursor.fetchall()\n",
    "display(output)"
   ]
  },
  {
   "cell_type": "code",
   "execution_count": 13,
   "metadata": {},
   "outputs": [
    {
     "data": {
      "text/plain": [
       "[(' ?', 1843),\n",
       " (' Adm-clerical', 3769),\n",
       " (' Armed-Forces', 9),\n",
       " (' Craft-repair', 4099),\n",
       " (' Exec-managerial', 4066),\n",
       " (' Farming-fishing', 994),\n",
       " (' Handlers-cleaners', 1370),\n",
       " (' Machine-op-inspct', 2002),\n",
       " (' Other-service', 3295),\n",
       " (' Priv-house-serv', 149),\n",
       " (' Prof-specialty', 4140),\n",
       " (' Protective-serv', 649),\n",
       " (' Sales', 3650),\n",
       " (' Tech-support', 928),\n",
       " (' Transport-moving', 1597)]"
      ]
     },
     "metadata": {},
     "output_type": "display_data"
    }
   ],
   "source": [
    "cursor.execute('SELECT occupation, COUNT(*) FROM sqladb GROUP BY occupation')\n",
    "output = cursor.fetchall()\n",
    "display(output)"
   ]
  },
  {
   "cell_type": "code",
   "execution_count": 14,
   "metadata": {},
   "outputs": [
    {
     "data": {
      "text/plain": [
       "[(' Husband', 13193),\n",
       " (' Not-in-family', 8304),\n",
       " (' Other-relative', 981),\n",
       " (' Own-child', 5068),\n",
       " (' Unmarried', 3446),\n",
       " (' Wife', 1568)]"
      ]
     },
     "metadata": {},
     "output_type": "display_data"
    }
   ],
   "source": [
    "cursor.execute('SELECT relationship, COUNT(*) FROM sqladb GROUP BY relationship')\n",
    "output = cursor.fetchall()\n",
    "display(output)"
   ]
  },
  {
   "cell_type": "code",
   "execution_count": 15,
   "metadata": {},
   "outputs": [
    {
     "name": "stdout",
     "output_type": "stream",
     "text": [
      "[(4, 37, ' Private', 284582, ' Masters', 14, ' Married-civ-spouse', ' Exec-managerial', ' Wife', ' White', ' Female', 0, 0, 40, ' United-States', ' <=50K'), (86, 33, ' Private', 202051, ' Masters', 14, ' Married-civ-spouse', ' Prof-specialty', ' Husband', ' White', ' Male', 0, 0, 50, ' United-States', ' <=50K'), (99, 76, ' Private', 124191, ' Masters', 14, ' Married-civ-spouse', ' Exec-managerial', ' Husband', ' White', ' Male', 0, 0, 40, ' United-States', ' >50K'), (187, 31, ' Private', 99928, ' Masters', 14, ' Married-civ-spouse', ' Prof-specialty', ' Wife', ' White', ' Female', 0, 0, 50, ' United-States', ' <=50K'), (197, 35, ' Private', 138992, ' Masters', 14, ' Married-civ-spouse', ' Prof-specialty', ' Other-relative', ' White', ' Male', 7298, 0, 40, ' United-States', ' >50K'), (310, 34, ' Private', 142897, ' Masters', 14, ' Married-civ-spouse', ' Exec-managerial', ' Husband', ' Asian-Pac-Islander', ' Male', 7298, 0, 35, ' Taiwan', ' >50K'), (360, 62, ' Private', 270092, ' Masters', 14, ' Married-civ-spouse', ' Prof-specialty', ' Husband', ' White', ' Male', 0, 0, 40, ' United-States', ' >50K'), (404, 41, ' Private', 445382, ' Masters', 14, ' Married-civ-spouse', ' Exec-managerial', ' Husband', ' White', ' Male', 0, 1977, 65, ' United-States', ' >50K'), (434, 33, ' Private', 208405, ' Masters', 14, ' Married-civ-spouse', ' Prof-specialty', ' Husband', ' White', ' Male', 0, 0, 50, ' United-States', ' >50K'), (467, 49, ' Private', 192776, ' Masters', 14, ' Married-civ-spouse', ' Exec-managerial', ' Husband', ' White', ' Male', 0, 1977, 45, ' United-States', ' >50K'), (605, 51, ' Private', 410114, ' Masters', 14, ' Married-civ-spouse', ' Craft-repair', ' Husband', ' White', ' Male', 0, 0, 40, ' United-States', ' >50K'), (696, 31, ' Private', 118710, ' Masters', 14, ' Married-civ-spouse', ' Tech-support', ' Husband', ' White', ' Male', 0, 1902, 40, ' United-States', ' >50K'), (776, 34, ' Private', 73585, ' Masters', 14, ' Married-civ-spouse', ' Prof-specialty', ' Husband', ' White', ' Male', 0, 0, 40, ' ?', ' <=50K'), (894, 40, ' Private', 170108, ' Masters', 14, ' Married-civ-spouse', ' Prof-specialty', ' Husband', ' White', ' Male', 0, 0, 40, ' United-States', ' <=50K'), (915, 43, ' Private', 158926, ' Masters', 14, ' Married-civ-spouse', ' Prof-specialty', ' Wife', ' Asian-Pac-Islander', ' Female', 0, 0, 50, ' South', ' <=50K'), (926, 51, ' Private', 138022, ' Masters', 14, ' Married-civ-spouse', ' Exec-managerial', ' Husband', ' White', ' Male', 0, 0, 60, ' United-States', ' >50K'), (950, 43, ' Private', 227065, ' Masters', 14, ' Married-civ-spouse', ' Exec-managerial', ' Husband', ' White', ' Male', 0, 0, 43, ' United-States', ' >50K'), (1013, 38, ' Private', 173208, ' Masters', 14, ' Married-civ-spouse', ' Prof-specialty', ' Husband', ' White', ' Male', 0, 0, 25, ' United-States', ' <=50K'), (1144, 33, ' Private', 354573, ' Masters', 14, ' Married-civ-spouse', ' Prof-specialty', ' Husband', ' White', ' Male', 15024, 0, 44, ' United-States', ' >50K'), (1171, 25, ' Private', 404616, ' Masters', 14, ' Married-civ-spouse', ' Farming-fishing', ' Not-in-family', ' White', ' Male', 0, 0, 99, ' United-States', ' >50K'), (1196, 59, ' Private', 151616, ' Masters', 14, ' Married-civ-spouse', ' Prof-specialty', ' Husband', ' White', ' Male', 0, 0, 55, ' United-States', ' <=50K'), (1223, 38, ' Private', 22245, ' Masters', 14, ' Married-civ-spouse', ' Transport-moving', ' Husband', ' White', ' Male', 0, 0, 72, ' ?', ' >50K'), (1292, 46, ' Private', 279661, ' Masters', 14, ' Married-civ-spouse', ' Prof-specialty', ' Husband', ' Black', ' Male', 0, 0, 35, ' United-States', ' <=50K'), (1377, 65, ' Private', 198766, ' Masters', 14, ' Married-civ-spouse', ' Sales', ' Husband', ' White', ' Male', 20051, 0, 40, ' United-States', ' >50K'), (1592, 55, ' Private', 98361, ' Masters', 14, ' Married-civ-spouse', ' Prof-specialty', ' Husband', ' White', ' Male', 15024, 0, 50, ' ?', ' >50K'), (1611, 45, ' Private', 46406, ' Masters', 14, ' Married-civ-spouse', ' Prof-specialty', ' Husband', ' White', ' Male', 0, 0, 36, ' England', ' >50K'), (1641, 48, ' Private', 126754, ' Masters', 14, ' Married-civ-spouse', ' Prof-specialty', ' Husband', ' White', ' Male', 15024, 0, 40, ' United-States', ' >50K'), (1698, 54, ' Private', 177927, ' Masters', 14, ' Married-civ-spouse', ' Prof-specialty', ' Husband', ' White', ' Male', 0, 0, 60, ' United-States', ' <=50K'), (1708, 43, ' Private', 201723, ' Masters', 14, ' Married-civ-spouse', ' Exec-managerial', ' Husband', ' White', ' Male', 0, 1902, 40, ' United-States', ' >50K'), (1716, 41, ' Private', 233955, ' Masters', 14, ' Married-civ-spouse', ' Prof-specialty', ' Husband', ' Asian-Pac-Islander', ' Male', 0, 0, 45, ' China', ' >50K'), (1727, 49, ' Private', 186078, ' Masters', 14, ' Married-civ-spouse', ' Prof-specialty', ' Wife', ' White', ' Female', 0, 0, 50, ' United-States', ' >50K'), (1786, 39, ' Private', 79331, ' Masters', 14, ' Married-civ-spouse', ' Exec-managerial', ' Husband', ' Asian-Pac-Islander', ' Male', 15024, 0, 40, ' United-States', ' >50K'), (1835, 58, ' Private', 312131, ' Masters', 14, ' Married-civ-spouse', ' Sales', ' Husband', ' White', ' Male', 0, 0, 40, ' United-States', ' <=50K'), (1892, 34, ' Private', 192002, ' Masters', 14, ' Married-civ-spouse', ' Prof-specialty', ' Husband', ' White', ' Male', 0, 0, 55, ' United-States', ' >50K'), (1920, 38, ' Private', 119741, ' Masters', 14, ' Married-civ-spouse', ' Craft-repair', ' Husband', ' Black', ' Male', 0, 0, 40, ' United-States', ' >50K'), (1944, 37, ' Private', 329980, ' Masters', 14, ' Married-civ-spouse', ' Exec-managerial', ' Husband', ' White', ' Male', 0, 2415, 60, ' United-States', ' >50K'), (1948, 40, ' Private', 102606, ' Masters', 14, ' Married-civ-spouse', ' Exec-managerial', ' Husband', ' White', ' Male', 0, 0, 40, ' United-States', ' >50K'), (1961, 50, ' Private', 147629, ' Masters', 14, ' Married-civ-spouse', ' Prof-specialty', ' Husband', ' White', ' Male', 15024, 0, 45, ' United-States', ' >50K'), (2017, 39, ' Private', 505119, ' Masters', 14, ' Married-civ-spouse', ' Exec-managerial', ' Husband', ' White', ' Male', 0, 0, 40, ' Cuba', ' >50K'), (2084, 37, ' Private', 49115, ' Masters', 14, ' Married-civ-spouse', ' Exec-managerial', ' Husband', ' White', ' Male', 0, 0, 60, ' United-States', ' >50K'), (2152, 44, ' Private', 146659, ' Masters', 14, ' Married-civ-spouse', ' Prof-specialty', ' Husband', ' White', ' Male', 0, 1887, 35, ' United-States', ' >50K'), (2216, 45, ' Private', 142287, ' Masters', 14, ' Married-civ-spouse', ' Exec-managerial', ' Husband', ' White', ' Male', 0, 0, 50, ' United-States', ' >50K'), (2257, 29, ' Private', 241431, ' Masters', 14, ' Married-civ-spouse', ' Sales', ' Husband', ' White', ' Male', 7298, 0, 40, ' United-States', ' >50K'), (2285, 41, ' Private', 116379, ' Masters', 14, ' Married-civ-spouse', ' Prof-specialty', ' Husband', ' Asian-Pac-Islander', ' Male', 0, 0, 55, ' Taiwan', ' >50K'), (2338, 36, ' Private', 116358, ' Masters', 14, ' Married-civ-spouse', ' Exec-managerial', ' Husband', ' Asian-Pac-Islander', ' Male', 0, 0, 40, ' Taiwan', ' >50K'), (2343, 44, ' Private', 198282, ' Masters', 14, ' Married-civ-spouse', ' Exec-managerial', ' Husband', ' White', ' Male', 15024, 0, 40, ' United-States', ' >50K'), (2828, 36, ' Private', 107302, ' Masters', 14, ' Married-civ-spouse', ' Prof-specialty', ' Husband', ' White', ' Male', 0, 0, 60, ' United-States', ' >50K'), (2859, 47, ' Private', 102308, ' Masters', 14, ' Married-civ-spouse', ' Sales', ' Husband', ' White', ' Male', 0, 0, 40, ' United-States', ' >50K'), (2914, 26, ' Private', 198163, ' Masters', 14, ' Married-civ-spouse', ' Sales', ' Wife', ' White', ' Female', 0, 0, 40, ' United-States', ' <=50K'), (2988, 44, ' Private', 178385, ' Masters', 14, ' Married-civ-spouse', ' Exec-managerial', ' Husband', ' Asian-Pac-Islander', ' Male', 0, 0, 48, ' India', ' <=50K'), (3034, 61, ' Private', 208919, ' Masters', 14, ' Married-civ-spouse', ' Sales', ' Husband', ' White', ' Male', 0, 0, 60, ' United-States', ' >50K'), (3076, 38, ' Private', 266645, ' Masters', 14, ' Married-civ-spouse', ' Exec-managerial', ' Husband', ' White', ' Male', 0, 0, 60, ' United-States', ' >50K'), (3124, 55, ' Private', 153484, ' Masters', 14, ' Married-civ-spouse', ' Exec-managerial', ' Husband', ' White', ' Male', 0, 1977, 50, ' United-States', ' >50K'), (3142, 32, ' Private', 295589, ' Masters', 14, ' Married-civ-spouse', ' Exec-managerial', ' Husband', ' Black', ' Male', 0, 1977, 40, ' United-States', ' >50K'), (3166, 38, ' Private', 242720, ' Masters', 14, ' Married-civ-spouse', ' Prof-specialty', ' Husband', ' White', ' Male', 0, 0, 35, ' United-States', ' >50K'), (3426, 54, ' Private', 457237, ' Masters', 14, ' Married-civ-spouse', ' Sales', ' Husband', ' White', ' Male', 0, 0, 40, ' United-States', ' <=50K'), (3465, 39, ' Private', 96452, ' Masters', 14, ' Married-civ-spouse', ' Exec-managerial', ' Husband', ' White', ' Male', 0, 0, 55, ' United-States', ' >50K'), (3482, 41, ' Private', 113823, ' Masters', 14, ' Married-civ-spouse', ' Prof-specialty', ' Husband', ' White', ' Male', 0, 0, 40, ' England', ' <=50K'), (3498, 26, ' Private', 139098, ' Masters', 14, ' Married-civ-spouse', ' Prof-specialty', ' Husband', ' White', ' Male', 5013, 0, 40, ' United-States', ' <=50K'), (3539, 36, ' Private', 165799, ' Masters', 14, ' Married-civ-spouse', ' Sales', ' Husband', ' White', ' Male', 0, 0, 50, ' United-States', ' >50K'), (3551, 56, ' Private', 192869, ' Masters', 14, ' Married-civ-spouse', ' Craft-repair', ' Husband', ' White', ' Male', 0, 1977, 44, ' United-States', ' >50K'), (3626, 36, ' Private', 120760, ' Masters', 14, ' Married-civ-spouse', ' Prof-specialty', ' Husband', ' Asian-Pac-Islander', ' Male', 0, 0, 40, ' China', ' <=50K'), (3671, 43, ' Private', 102025, ' Masters', 14, ' Married-civ-spouse', ' Prof-specialty', ' Husband', ' Other', ' Male', 0, 0, 50, ' United-States', ' <=50K'), (3723, 38, ' Private', 234901, ' Masters', 14, ' Married-civ-spouse', ' Exec-managerial', ' Husband', ' White', ' Male', 0, 1977, 60, ' United-States', ' >50K'), (3748, 56, ' Private', 318450, ' Masters', 14, ' Married-civ-spouse', ' Adm-clerical', ' Husband', ' White', ' Male', 0, 0, 80, ' United-States', ' >50K'), (3828, 40, ' Private', 71738, ' Masters', 14, ' Married-civ-spouse', ' Exec-managerial', ' Husband', ' White', ' Male', 0, 0, 46, ' United-States', ' >50K'), (3926, 53, ' Private', 201127, ' Masters', 14, ' Married-civ-spouse', ' Exec-managerial', ' Husband', ' White', ' Male', 0, 0, 48, ' United-States', ' >50K'), (3965, 49, ' Private', 101825, ' Masters', 14, ' Married-civ-spouse', ' Prof-specialty', ' Wife', ' White', ' Female', 0, 1977, 40, ' United-States', ' >50K'), (4171, 46, ' Private', 324655, ' Masters', 14, ' Married-civ-spouse', ' Tech-support', ' Husband', ' White', ' Male', 0, 1902, 40, ' ?', ' >50K'), (4348, 53, ' Private', 114758, ' Masters', 14, ' Married-civ-spouse', ' Exec-managerial', ' Husband', ' White', ' Male', 15024, 0, 65, ' United-States', ' >50K'), (4365, 42, ' Private', 201785, ' Masters', 14, ' Married-civ-spouse', ' Sales', ' Husband', ' White', ' Male', 0, 0, 50, ' United-States', ' >50K'), (4410, 43, ' Private', 304175, ' Masters', 14, ' Married-civ-spouse', ' Prof-specialty', ' Husband', ' White', ' Male', 0, 0, 50, ' United-States', ' >50K'), (4464, 49, ' Private', 185041, ' Masters', 14, ' Married-civ-spouse', ' Exec-managerial', ' Husband', ' White', ' Male', 0, 1977, 40, ' United-States', ' >50K'), (4548, 53, ' Private', 424079, ' Masters', 14, ' Married-civ-spouse', ' Exec-managerial', ' Husband', ' White', ' Male', 15024, 0, 55, ' United-States', ' >50K'), (4570, 34, ' Private', 299635, ' Masters', 14, ' Married-civ-spouse', ' Exec-managerial', ' Husband', ' White', ' Male', 0, 1902, 50, ' United-States', ' >50K'), (4746, 42, ' Private', 107762, ' Masters', 14, ' Married-civ-spouse', ' Prof-specialty', ' Husband', ' White', ' Male', 0, 0, 40, ' United-States', ' >50K'), (4779, 49, ' Private', 65087, ' Masters', 14, ' Married-civ-spouse', ' Exec-managerial', ' Husband', ' White', ' Male', 15024, 0, 50, ' United-States', ' >50K'), (4787, 37, ' Private', 117381, ' Masters', 14, ' Married-civ-spouse', ' Prof-specialty', ' Husband', ' White', ' Male', 0, 0, 45, ' United-States', ' <=50K'), (4893, 46, ' Private', 55720, ' Masters', 14, ' Married-civ-spouse', ' Exec-managerial', ' Husband', ' White', ' Male', 0, 0, 45, ' United-States', ' >50K'), (5043, 55, ' Private', 31905, ' Masters', 14, ' Married-civ-spouse', ' Exec-managerial', ' Husband', ' White', ' Male', 0, 1977, 40, ' United-States', ' >50K'), (5048, 32, ' Private', 473133, ' Masters', 14, ' Married-civ-spouse', ' Prof-specialty', ' Husband', ' White', ' Male', 0, 0, 40, ' United-States', ' >50K'), (5111, 39, ' Private', 225544, ' Masters', 14, ' Married-civ-spouse', ' Transport-moving', ' Husband', ' White', ' Male', 0, 0, 40, ' Poland', ' <=50K'), (5119, 46, ' Private', 265275, ' Masters', 14, ' Married-civ-spouse', ' Prof-specialty', ' Husband', ' White', ' Male', 0, 0, 60, ' United-States', ' <=50K'), (5157, 47, ' Private', 190139, ' Masters', 14, ' Married-civ-spouse', ' Exec-managerial', ' Husband', ' White', ' Male', 0, 0, 40, ' United-States', ' >50K'), (5275, 44, ' Private', 116632, ' Masters', 14, ' Married-civ-spouse', ' Exec-managerial', ' Husband', ' White', ' Male', 0, 0, 50, ' United-States', ' >50K'), (5457, 33, ' Private', 176992, ' Masters', 14, ' Married-civ-spouse', ' Prof-specialty', ' Husband', ' White', ' Male', 0, 0, 40, ' United-States', ' >50K'), (5542, 44, ' Private', 296728, ' Masters', 14, ' Married-civ-spouse', ' Exec-managerial', ' Husband', ' White', ' Male', 0, 0, 40, ' United-States', ' >50K'), (5579, 44, ' Private', 112517, ' Masters', 14, ' Married-civ-spouse', ' Tech-support', ' Husband', ' White', ' Male', 0, 0, 20, ' United-States', ' >50K'), (5592, 29, ' Private', 168479, ' Masters', 14, ' Married-civ-spouse', ' Prof-specialty', ' Husband', ' White', ' Male', 0, 0, 40, ' United-States', ' >50K'), (5633, 51, ' Private', 146574, ' Masters', 14, ' Married-civ-spouse', ' Exec-managerial', ' Husband', ' White', ' Male', 0, 0, 50, ' United-States', ' >50K'), (5638, 37, ' Private', 126569, ' Masters', 14, ' Married-civ-spouse', ' Tech-support', ' Husband', ' White', ' Male', 0, 0, 60, ' United-States', ' >50K'), (5672, 35, ' Private', 112271, ' Masters', 14, ' Married-civ-spouse', ' Adm-clerical', ' Husband', ' White', ' Male', 0, 0, 40, ' United-States', ' <=50K'), (5684, 53, ' Private', 106176, ' Masters', 14, ' Married-civ-spouse', ' Sales', ' Husband', ' White', ' Male', 7298, 0, 60, ' United-States', ' >50K'), (5770, 46, ' Private', 137354, ' Masters', 14, ' Married-civ-spouse', ' Tech-support', ' Husband', ' Asian-Pac-Islander', ' Male', 0, 0, 40, ' Philippines', ' >50K'), (5816, 35, ' Private', 241126, ' Masters', 14, ' Married-civ-spouse', ' Sales', ' Husband', ' White', ' Male', 0, 0, 40, ' United-States', ' >50K'), (5821, 35, ' Private', 99357, ' Masters', 14, ' Married-civ-spouse', ' Prof-specialty', ' Wife', ' White', ' Female', 15024, 0, 50, ' United-States', ' >50K'), (5835, 41, ' Private', 93793, ' Masters', 14, ' Married-civ-spouse', ' Prof-specialty', ' Husband', ' White', ' Male', 0, 0, 38, ' United-States', ' >50K'), (5861, 66, ' Private', 216856, ' Masters', 14, ' Married-civ-spouse', ' Sales', ' Husband', ' White', ' Male', 0, 0, 50, ' United-States', ' <=50K'), (5881, 36, ' Private', 261382, ' Masters', 14, ' Married-civ-spouse', ' Sales', ' Husband', ' White', ' Male', 15024, 0, 45, ' United-States', ' >50K'), (6001, 51, ' Private', 44000, ' Masters', 14, ' Married-civ-spouse', ' Prof-specialty', ' Wife', ' White', ' Female', 99999, 0, 50, ' United-States', ' >50K'), (6110, 39, ' Private', 91711, ' Masters', 14, ' Married-civ-spouse', ' Exec-managerial', ' Husband', ' White', ' Male', 0, 0, 40, ' United-States', ' >50K'), (6204, 40, ' Private', 146520, ' Masters', 14, ' Married-civ-spouse', ' Exec-managerial', ' Husband', ' White', ' Male', 0, 0, 40, ' United-States', ' >50K'), (6232, 67, ' Private', 195161, ' Masters', 14, ' Married-civ-spouse', ' Prof-specialty', ' Husband', ' White', ' Male', 20051, 0, 60, ' United-States', ' >50K'), (6298, 43, ' Private', 102180, ' Masters', 14, ' Married-civ-spouse', ' Prof-specialty', ' Husband', ' White', ' Male', 0, 0, 40, ' United-States', ' >50K'), (6323, 39, ' Private', 126675, ' Masters', 14, ' Married-civ-spouse', ' Sales', ' Husband', ' White', ' Male', 0, 0, 50, ' United-States', ' >50K'), (6386, 64, ' Private', 149044, ' Masters', 14, ' Married-civ-spouse', ' Prof-specialty', ' Husband', ' Asian-Pac-Islander', ' Male', 0, 2057, 60, ' China', ' <=50K'), (6428, 41, ' Private', 280167, ' Masters', 14, ' Married-civ-spouse', ' Exec-managerial', ' Husband', ' White', ' Male', 15024, 0, 70, ' United-States', ' >50K'), (6454, 55, ' Private', 163083, ' Masters', 14, ' Married-civ-spouse', ' Prof-specialty', ' Husband', ' White', ' Male', 0, 0, 40, ' United-States', ' >50K'), (6467, 34, ' Private', 204470, ' Masters', 14, ' Married-civ-spouse', ' Exec-managerial', ' Husband', ' White', ' Male', 0, 0, 50, ' United-States', ' >50K'), (6499, 39, ' Private', 194404, ' Masters', 14, ' Married-civ-spouse', ' Prof-specialty', ' Husband', ' White', ' Male', 7688, 0, 40, ' United-States', ' >50K'), (6579, 33, ' Private', 111567, ' Masters', 14, ' Married-civ-spouse', ' Exec-managerial', ' Husband', ' White', ' Male', 0, 1902, 45, ' Germany', ' >50K'), (6606, 38, ' Private', 314310, ' Masters', 14, ' Married-civ-spouse', ' Prof-specialty', ' Husband', ' White', ' Male', 0, 0, 45, ' United-States', ' <=50K'), (6607, 37, ' Private', 259785, ' Masters', 14, ' Married-civ-spouse', ' Exec-managerial', ' Husband', ' White', ' Male', 0, 0, 50, ' United-States', ' >50K'), (6608, 45, ' Private', 127111, ' Masters', 14, ' Married-civ-spouse', ' Prof-specialty', ' Husband', ' White', ' Male', 0, 0, 55, ' United-States', ' >50K'), (6699, 57, ' Private', 375868, ' Masters', 14, ' Married-civ-spouse', ' Adm-clerical', ' Husband', ' White', ' Male', 0, 0, 40, ' United-States', ' <=50K'), (6762, 44, ' Private', 104196, ' Masters', 14, ' Married-civ-spouse', ' Prof-specialty', ' Husband', ' White', ' Male', 0, 0, 45, ' United-States', ' >50K'), (6832, 28, ' Private', 209205, ' Masters', 14, ' Married-civ-spouse', ' Prof-specialty', ' Husband', ' White', ' Male', 0, 0, 45, ' United-States', ' >50K'), (7050, 30, ' Private', 110643, ' Masters', 14, ' Married-civ-spouse', ' Adm-clerical', ' Husband', ' White', ' Male', 4386, 0, 40, ' United-States', ' >50K'), (7146, 41, ' Private', 174395, ' Masters', 14, ' Married-civ-spouse', ' Prof-specialty', ' Husband', ' White', ' Male', 0, 0, 40, ' United-States', ' >50K'), (7352, 42, ' Private', 383493, ' Masters', 14, ' Married-civ-spouse', ' Prof-specialty', ' Husband', ' White', ' Male', 0, 0, 50, ' United-States', ' >50K'), (7466, 38, ' Private', 241153, ' Masters', 14, ' Married-civ-spouse', ' Exec-managerial', ' Husband', ' White', ' Male', 0, 0, 48, ' United-States', ' >50K'), (7484, 43, ' Private', 208277, ' Masters', 14, ' Married-civ-spouse', ' Prof-specialty', ' Wife', ' White', ' Female', 0, 0, 45, ' United-States', ' >50K'), (7554, 44, ' Private', 115323, ' Masters', 14, ' Married-civ-spouse', ' Exec-managerial', ' Husband', ' White', ' Male', 0, 0, 40, ' United-States', ' >50K'), (7598, 43, ' Private', 188808, ' Masters', 14, ' Married-civ-spouse', ' Exec-managerial', ' Husband', ' White', ' Male', 0, 0, 45, ' United-States', ' >50K'), (7620, 44, ' Private', 125461, ' Masters', 14, ' Married-civ-spouse', ' Exec-managerial', ' Husband', ' White', ' Male', 0, 0, 35, ' United-States', ' >50K'), (7700, 57, ' Private', 245193, ' Masters', 14, ' Married-civ-spouse', ' Exec-managerial', ' Husband', ' White', ' Male', 0, 0, 60, ' United-States', ' >50K'), (7823, 51, ' Private', 182314, ' Masters', 14, ' Married-civ-spouse', ' Tech-support', ' Husband', ' White', ' Male', 0, 0, 40, ' United-States', ' >50K'), (7843, 35, ' Private', 107302, ' Masters', 14, ' Married-civ-spouse', ' Sales', ' Husband', ' White', ' Male', 0, 0, 40, ' India', ' <=50K'), (7859, 30, ' Private', 175856, ' Masters', 14, ' Married-civ-spouse', ' Prof-specialty', ' Husband', ' White', ' Male', 0, 0, 38, ' United-States', ' <=50K'), (7887, 59, ' Private', 75867, ' Masters', 14, ' Married-civ-spouse', ' Prof-specialty', ' Husband', ' White', ' Male', 0, 0, 60, ' United-States', ' <=50K'), (7975, 34, ' Private', 134737, ' Masters', 14, ' Married-civ-spouse', ' Prof-specialty', ' Husband', ' White', ' Male', 7688, 0, 55, ' United-States', ' >50K'), (7978, 48, ' Private', 47343, ' Masters', 14, ' Married-civ-spouse', ' Prof-specialty', ' Husband', ' White', ' Male', 0, 0, 40, ' United-States', ' >50K'), (7999, 33, ' Private', 156192, ' Masters', 14, ' Married-civ-spouse', ' Prof-specialty', ' Husband', ' White', ' Male', 0, 0, 45, ' United-States', ' >50K'), (8028, 29, ' Private', 216481, ' Masters', 14, ' Married-civ-spouse', ' Exec-managerial', ' Wife', ' White', ' Female', 0, 0, 40, ' United-States', ' >50K'), (8083, 55, ' Private', 185459, ' Masters', 14, ' Married-civ-spouse', ' Sales', ' Husband', ' White', ' Male', 0, 0, 50, ' United-States', ' >50K'), (8090, 59, ' Private', 108496, ' Masters', 14, ' Married-civ-spouse', ' Exec-managerial', ' Husband', ' White', ' Male', 0, 0, 45, ' United-States', ' >50K'), (8096, 39, ' Private', 165215, ' Masters', 14, ' Married-civ-spouse', ' Prof-specialty', ' Wife', ' White', ' Female', 0, 1902, 18, ' United-States', ' >50K'), (8103, 39, ' Private', 179731, ' Masters', 14, ' Married-civ-spouse', ' Exec-managerial', ' Wife', ' White', ' Female', 0, 2415, 65, ' United-States', ' >50K'), (8207, 42, ' Private', 356934, ' Masters', 14, ' Married-civ-spouse', ' Exec-managerial', ' Husband', ' White', ' Male', 0, 0, 40, ' United-States', ' >50K'), (8212, 37, ' Private', 108140, ' Masters', 14, ' Married-civ-spouse', ' Exec-managerial', ' Husband', ' White', ' Male', 15024, 0, 45, ' United-States', ' >50K'), (8236, 47, ' Private', 586657, ' Masters', 14, ' Married-civ-spouse', ' Exec-managerial', ' Husband', ' White', ' Male', 0, 0, 40, ' Japan', ' >50K'), (8499, 45, ' Private', 360393, ' Masters', 14, ' Married-civ-spouse', ' Exec-managerial', ' Husband', ' White', ' Male', 0, 1902, 50, ' United-States', ' >50K'), (8695, 33, ' Private', 196385, ' Masters', 14, ' Married-civ-spouse', ' Prof-specialty', ' Husband', ' White', ' Male', 0, 0, 37, ' United-States', ' >50K'), (8741, 50, ' Private', 108435, ' Masters', 14, ' Married-civ-spouse', ' Exec-managerial', ' Husband', ' White', ' Male', 99999, 0, 60, ' United-States', ' >50K'), (8777, 33, ' Private', 394447, ' Masters', 14, ' Married-civ-spouse', ' Prof-specialty', ' Husband', ' White', ' Male', 0, 0, 33, ' United-States', ' >50K'), (8849, 33, ' Private', 296453, ' Masters', 14, ' Married-civ-spouse', ' Tech-support', ' Husband', ' White', ' Male', 0, 0, 15, ' United-States', ' <=50K'), (8861, 46, ' Private', 117849, ' Masters', 14, ' Married-civ-spouse', ' Exec-managerial', ' Husband', ' White', ' Male', 0, 0, 55, ' United-States', ' >50K'), (8881, 48, ' Private', 355978, ' Masters', 14, ' Married-civ-spouse', ' Exec-managerial', ' Husband', ' White', ' Male', 0, 0, 40, ' United-States', ' <=50K'), (8980, 47, ' Private', 148995, ' Masters', 14, ' Married-civ-spouse', ' Exec-managerial', ' Husband', ' White', ' Male', 0, 0, 65, ' United-States', ' >50K'), (9090, 59, ' Private', 232672, ' Masters', 14, ' Married-civ-spouse', ' Exec-managerial', ' Husband', ' White', ' Male', 0, 0, 40, ' United-States', ' >50K'), (9104, 41, ' Private', 101593, ' Masters', 14, ' Married-civ-spouse', ' Exec-managerial', ' Husband', ' White', ' Male', 0, 0, 50, ' United-States', ' >50K'), (9129, 40, ' Private', 259307, ' Masters', 14, ' Married-civ-spouse', ' Exec-managerial', ' Husband', ' White', ' Male', 0, 0, 50, ' United-States', ' >50K'), (9145, 37, ' Private', 218490, ' Masters', 14, ' Married-civ-spouse', ' Exec-managerial', ' Husband', ' White', ' Male', 0, 0, 55, ' El-Salvador', ' >50K'), (9305, 52, ' Private', 108435, ' Masters', 14, ' Married-civ-spouse', ' Exec-managerial', ' Husband', ' White', ' Male', 0, 1902, 50, ' Greece', ' >50K'), (9344, 49, ' Private', 170871, ' Masters', 14, ' Married-civ-spouse', ' Exec-managerial', ' Husband', ' White', ' Male', 0, 0, 45, ' United-States', ' >50K'), (9391, 46, ' Private', 155489, ' Masters', 14, ' Married-civ-spouse', ' Exec-managerial', ' Husband', ' White', ' Male', 0, 0, 50, ' United-States', ' >50K'), (9441, 35, ' Private', 308691, ' Masters', 14, ' Married-civ-spouse', ' Machine-op-inspct', ' Husband', ' White', ' Male', 0, 0, 48, ' United-States', ' <=50K'), (9628, 43, ' Private', 220776, ' Masters', 14, ' Married-civ-spouse', ' Exec-managerial', ' Husband', ' White', ' Male', 0, 0, 35, ' United-States', ' >50K'), (9813, 45, ' Private', 188950, ' Masters', 14, ' Married-civ-spouse', ' Exec-managerial', ' Husband', ' White', ' Male', 0, 0, 50, ' United-States', ' >50K'), (9854, 32, ' Private', 191856, ' Masters', 14, ' Married-civ-spouse', ' Sales', ' Wife', ' White', ' Female', 0, 0, 45, ' United-States', ' >50K'), (9865, 61, ' Private', 119986, ' Masters', 14, ' Married-civ-spouse', ' Prof-specialty', ' Husband', ' White', ' Male', 0, 0, 40, ' ?', ' >50K'), (10164, 36, ' Private', 269722, ' Masters', 14, ' Married-civ-spouse', ' Other-service', ' Husband', ' White', ' Male', 0, 0, 40, ' United-States', ' <=50K'), (10170, 36, ' Private', 237943, ' Masters', 14, ' Married-civ-spouse', ' Exec-managerial', ' Husband', ' White', ' Male', 15024, 0, 50, ' United-States', ' >50K'), (10176, 60, ' Private', 355865, ' Masters', 14, ' Married-civ-spouse', ' Exec-managerial', ' Husband', ' White', ' Male', 0, 0, 50, ' United-States', ' >50K'), (10289, 54, ' Private', 421561, ' Masters', 14, ' Married-civ-spouse', ' Exec-managerial', ' Husband', ' White', ' Male', 0, 0, 45, ' United-States', ' >50K'), (10388, 34, ' Private', 36385, ' Masters', 14, ' Married-civ-spouse', ' Prof-specialty', ' Husband', ' White', ' Male', 0, 0, 45, ' United-States', ' >50K'), (10458, 49, ' Private', 181363, ' Masters', 14, ' Married-civ-spouse', ' Exec-managerial', ' Husband', ' White', ' Male', 0, 0, 45, ' United-States', ' >50K'), (10478, 39, ' Private', 204501, ' Masters', 14, ' Married-civ-spouse', ' Exec-managerial', ' Husband', ' White', ' Male', 0, 0, 50, ' United-States', ' >50K'), (10532, 38, ' Private', 192337, ' Masters', 14, ' Married-civ-spouse', ' Prof-specialty', ' Husband', ' White', ' Male', 0, 0, 40, ' England', ' >50K'), (10549, 46, ' Private', 139268, ' Masters', 14, ' Married-civ-spouse', ' Exec-managerial', ' Husband', ' White', ' Male', 0, 0, 45, ' United-States', ' >50K'), (10575, 51, ' Private', 102615, ' Masters', 14, ' Married-civ-spouse', ' Protective-serv', ' Husband', ' White', ' Male', 0, 1977, 40, ' United-States', ' >50K'), (10581, 51, ' Private', 63424, ' Masters', 14, ' Married-civ-spouse', ' Prof-specialty', ' Wife', ' White', ' Female', 0, 0, 40, ' United-States', ' >50K'), (10601, 31, ' Private', 188246, ' Masters', 14, ' Married-civ-spouse', ' Prof-specialty', ' Husband', ' White', ' Male', 0, 0, 50, ' United-States', ' <=50K'), (10666, 40, ' Private', 226902, ' Masters', 14, ' Married-civ-spouse', ' Exec-managerial', ' Husband', ' White', ' Male', 15024, 0, 50, ' United-States', ' >50K'), (10724, 48, ' Private', 112906, ' Masters', 14, ' Married-civ-spouse', ' Transport-moving', ' Husband', ' White', ' Male', 0, 0, 55, ' United-States', ' >50K'), (10726, 55, ' Private', 208311, ' Masters', 14, ' Married-civ-spouse', ' Tech-support', ' Husband', ' White', ' Male', 0, 1977, 20, ' United-States', ' >50K'), (10756, 39, ' Private', 230054, ' Masters', 14, ' Married-civ-spouse', ' Prof-specialty', ' Husband', ' White', ' Male', 0, 0, 50, ' United-States', ' >50K'), (10856, 34, ' Private', 349169, ' Masters', 14, ' Married-civ-spouse', ' Craft-repair', ' Husband', ' White', ' Male', 0, 0, 40, ' Mexico', ' <=50K'), (10951, 46, ' Private', 164733, ' Masters', 14, ' Married-civ-spouse', ' Prof-specialty', ' Husband', ' White', ' Male', 0, 0, 41, ' United-States', ' <=50K'), (11102, 35, ' Private', 92028, ' Masters', 14, ' Married-civ-spouse', ' Exec-managerial', ' Husband', ' White', ' Male', 0, 0, 50, ' United-States', ' >50K'), (11152, 29, ' Private', 53181, ' Masters', 14, ' Married-civ-spouse', ' Prof-specialty', ' Husband', ' White', ' Male', 0, 0, 55, ' United-States', ' >50K'), (11203, 46, ' Private', 102771, ' Masters', 14, ' Married-civ-spouse', ' Tech-support', ' Husband', ' White', ' Male', 0, 1977, 40, ' United-States', ' >50K'), (11215, 66, ' Private', 116468, ' Masters', 14, ' Married-civ-spouse', ' Prof-specialty', ' Husband', ' White', ' Male', 2936, 0, 20, ' United-States', ' <=50K'), (11259, 54, ' Private', 225599, ' Masters', 14, ' Married-civ-spouse', ' Prof-specialty', ' Husband', ' Asian-Pac-Islander', ' Male', 7298, 0, 40, ' India', ' >50K'), (11673, 42, ' Private', 280167, ' Masters', 14, ' Married-civ-spouse', ' Prof-specialty', ' Husband', ' White', ' Male', 0, 0, 40, ' United-States', ' >50K'), (11676, 41, ' Private', 173682, ' Masters', 14, ' Married-civ-spouse', ' Machine-op-inspct', ' Husband', ' White', ' Male', 0, 0, 40, ' United-States', ' <=50K'), (11752, 45, ' Private', 216932, ' Masters', 14, ' Married-civ-spouse', ' Exec-managerial', ' Husband', ' White', ' Male', 0, 0, 40, ' United-States', ' >50K'), (11759, 35, ' Private', 86648, ' Masters', 14, ' Married-civ-spouse', ' Prof-specialty', ' Husband', ' White', ' Male', 0, 1977, 45, ' United-States', ' >50K'), (11763, 46, ' Private', 123053, ' Masters', 14, ' Married-civ-spouse', ' Exec-managerial', ' Husband', ' Asian-Pac-Islander', ' Male', 0, 0, 50, ' Japan', ' >50K'), (11840, 49, ' Private', 122385, ' Masters', 14, ' Married-civ-spouse', ' Exec-managerial', ' Husband', ' White', ' Male', 0, 0, 40, ' United-States', ' >50K'), (11841, 35, ' Private', 49020, ' Masters', 14, ' Married-civ-spouse', ' Exec-managerial', ' Husband', ' White', ' Male', 0, 0, 60, ' United-States', ' >50K'), (11872, 42, ' Private', 173704, ' Masters', 14, ' Married-civ-spouse', ' Prof-specialty', ' Husband', ' White', ' Male', 0, 0, 40, ' United-States', ' <=50K'), (11898, 39, ' Private', 167140, ' Masters', 14, ' Married-civ-spouse', ' Exec-managerial', ' Husband', ' White', ' Male', 0, 0, 40, ' United-States', ' <=50K'), (11903, 57, ' Private', 437727, ' Masters', 14, ' Married-civ-spouse', ' Prof-specialty', ' Husband', ' White', ' Male', 0, 1977, 45, ' United-States', ' >50K'), (11928, 44, ' Private', 120277, ' Masters', 14, ' Married-civ-spouse', ' Exec-managerial', ' Husband', ' White', ' Male', 0, 0, 38, ' United-States', ' >50K'), (12014, 46, ' Private', 184169, ' Masters', 14, ' Married-civ-spouse', ' Prof-specialty', ' Wife', ' White', ' Female', 7688, 0, 35, ' United-States', ' >50K'), (12061, 39, ' Private', 77005, ' Masters', 14, ' Married-civ-spouse', ' Prof-specialty', ' Husband', ' White', ' Male', 99999, 0, 40, ' United-States', ' >50K'), (12107, 34, ' Private', 294064, ' Masters', 14, ' Married-civ-spouse', ' Exec-managerial', ' Husband', ' White', ' Male', 0, 0, 50, ' France', ' <=50K'), (12109, 48, ' Private', 199058, ' Masters', 14, ' Married-civ-spouse', ' Exec-managerial', ' Husband', ' White', ' Male', 0, 0, 40, ' United-States', ' >50K'), (12138, 45, ' Private', 129336, ' Masters', 14, ' Married-civ-spouse', ' Adm-clerical', ' Husband', ' White', ' Male', 0, 0, 45, ' United-States', ' >50K'), (12201, 30, ' Private', 467108, ' Masters', 14, ' Married-civ-spouse', ' Prof-specialty', ' Husband', ' White', ' Male', 0, 0, 44, ' United-States', ' >50K'), (12206, 33, ' Private', 144949, ' Masters', 14, ' Married-civ-spouse', ' Prof-specialty', ' Husband', ' White', ' Male', 15024, 0, 40, ' United-States', ' >50K'), (12316, 53, ' Private', 158294, ' Masters', 14, ' Married-civ-spouse', ' Prof-specialty', ' Husband', ' White', ' Male', 7298, 0, 40, ' United-States', ' >50K'), (12382, 45, ' Private', 199058, ' Masters', 14, ' Married-civ-spouse', ' Exec-managerial', ' Husband', ' White', ' Male', 7298, 0, 50, ' United-States', ' >50K'), (12444, 46, ' Private', 273629, ' Masters', 14, ' Married-civ-spouse', ' Exec-managerial', ' Husband', ' White', ' Male', 0, 0, 40, ' United-States', ' >50K'), (12731, 50, ' Private', 160724, ' Masters', 14, ' Married-civ-spouse', ' Exec-managerial', ' Husband', ' Asian-Pac-Islander', ' Male', 7298, 0, 40, ' Philippines', ' >50K'), (12757, 47, ' Private', 121836, ' Masters', 14, ' Married-civ-spouse', ' Adm-clerical', ' Wife', ' White', ' Female', 7688, 0, 38, ' United-States', ' >50K'), (12864, 59, ' Private', 333270, ' Masters', 14, ' Married-civ-spouse', ' Craft-repair', ' Wife', ' Asian-Pac-Islander', ' Female', 0, 0, 35, ' Philippines', ' <=50K'), (12873, 30, ' Private', 340917, ' Masters', 14, ' Married-civ-spouse', ' Exec-managerial', ' Husband', ' White', ' Male', 15024, 0, 60, ' United-States', ' >50K'), (12881, 46, ' Private', 337050, ' Masters', 14, ' Married-civ-spouse', ' Exec-managerial', ' Husband', ' White', ' Male', 0, 1977, 45, ' United-States', ' >50K'), (12894, 42, ' Private', 203554, ' Masters', 14, ' Married-civ-spouse', ' Exec-managerial', ' Husband', ' White', ' Male', 0, 0, 60, ' United-States', ' >50K'), (13115, 48, ' Private', 174386, ' Masters', 14, ' Married-civ-spouse', ' Prof-specialty', ' Husband', ' White', ' Male', 0, 0, 40, ' El-Salvador', ' >50K'), (13119, 51, ' Private', 169112, ' Masters', 14, ' Married-civ-spouse', ' Sales', ' Husband', ' White', ' Male', 0, 0, 40, ' United-States', ' >50K'), (13120, 52, ' Private', 74024, ' Masters', 14, ' Married-civ-spouse', ' Prof-specialty', ' Husband', ' White', ' Male', 0, 0, 45, ' United-States', ' >50K'), (13177, 39, ' Private', 216552, ' Masters', 14, ' Married-civ-spouse', ' Adm-clerical', ' Husband', ' White', ' Male', 0, 0, 40, ' United-States', ' <=50K'), (13244, 28, ' Private', 204074, ' Masters', 14, ' Married-civ-spouse', ' Prof-specialty', ' Husband', ' White', ' Male', 0, 0, 48, ' United-States', ' <=50K'), (13269, 41, ' Private', 101593, ' Masters', 14, ' Married-civ-spouse', ' Prof-specialty', ' Husband', ' White', ' Male', 15024, 0, 50, ' United-States', ' >50K'), (13412, 25, ' Private', 169100, ' Masters', 14, ' Married-civ-spouse', ' Exec-managerial', ' Husband', ' White', ' Male', 0, 0, 40, ' United-States', ' <=50K'), (13459, 41, ' Private', 177905, ' Masters', 14, ' Married-civ-spouse', ' Prof-specialty', ' Husband', ' White', ' Male', 0, 0, 45, ' United-States', ' >50K'), (13532, 44, ' Private', 164678, ' Masters', 14, ' Married-civ-spouse', ' Prof-specialty', ' Wife', ' White', ' Female', 0, 0, 45, ' United-States', ' <=50K'), (13630, 50, ' Private', 150999, ' Masters', 14, ' Married-civ-spouse', ' Prof-specialty', ' Husband', ' White', ' Male', 0, 1977, 40, ' United-States', ' >50K'), (13659, 46, ' Private', 326857, ' Masters', 14, ' Married-civ-spouse', ' Sales', ' Husband', ' White', ' Male', 0, 2415, 65, ' United-States', ' >50K'), (13694, 50, ' Private', 205803, ' Masters', 14, ' Married-civ-spouse', ' Sales', ' Husband', ' White', ' Male', 15024, 0, 40, ' United-States', ' >50K'), (13746, 38, ' Private', 154568, ' Masters', 14, ' Married-civ-spouse', ' Exec-managerial', ' Husband', ' Asian-Pac-Islander', ' Male', 0, 0, 40, ' ?', ' <=50K'), (13747, 36, ' Private', 192939, ' Masters', 14, ' Married-civ-spouse', ' Prof-specialty', ' Husband', ' White', ' Male', 0, 1977, 60, ' United-States', ' >50K'), (13965, 24, ' Private', 57711, ' Masters', 14, ' Married-civ-spouse', ' Prof-specialty', ' Wife', ' White', ' Female', 0, 0, 35, ' United-States', ' >50K'), (13974, 40, ' Private', 160369, ' Masters', 14, ' Married-civ-spouse', ' Exec-managerial', ' Husband', ' White', ' Male', 0, 2415, 45, ' United-States', ' >50K'), (13982, 44, ' Private', 267717, ' Masters', 14, ' Married-civ-spouse', ' Craft-repair', ' Husband', ' White', ' Male', 15024, 0, 45, ' United-States', ' >50K'), (14041, 40, ' Private', 173590, ' Masters', 14, ' Married-civ-spouse', ' Exec-managerial', ' Husband', ' White', ' Male', 0, 0, 50, ' United-States', ' >50K'), (14095, 53, ' Private', 152810, ' Masters', 14, ' Married-civ-spouse', ' Exec-managerial', ' Husband', ' White', ' Male', 0, 1977, 55, ' United-States', ' >50K'), (14228, 40, ' Private', 180985, ' Masters', 14, ' Married-civ-spouse', ' Exec-managerial', ' Husband', ' White', ' Male', 0, 0, 50, ' United-States', ' >50K'), (14293, 39, ' Private', 186191, ' Masters', 14, ' Married-civ-spouse', ' Prof-specialty', ' Husband', ' White', ' Male', 0, 1848, 50, ' United-States', ' >50K'), (14319, 43, ' Private', 150528, ' Masters', 14, ' Married-civ-spouse', ' Prof-specialty', ' Husband', ' White', ' Male', 0, 0, 40, ' United-States', ' >50K'), (14360, 56, ' Private', 357118, ' Masters', 14, ' Married-civ-spouse', ' Prof-specialty', ' Wife', ' White', ' Female', 0, 0, 40, ' United-States', ' >50K'), (14414, 64, ' Private', 134378, ' Masters', 14, ' Married-civ-spouse', ' Exec-managerial', ' Husband', ' White', ' Male', 0, 0, 50, ' United-States', ' >50K'), (14578, 55, ' Private', 197399, ' Masters', 14, ' Married-civ-spouse', ' Exec-managerial', ' Husband', ' White', ' Male', 99999, 0, 55, ' United-States', ' >50K'), (14583, 56, ' Private', 98361, ' Masters', 14, ' Married-civ-spouse', ' Prof-specialty', ' Husband', ' White', ' Male', 0, 0, 40, ' ?', ' >50K'), (14655, 38, ' Private', 193815, ' Masters', 14, ' Married-civ-spouse', ' Exec-managerial', ' Husband', ' White', ' Male', 0, 0, 45, ' United-States', ' >50K'), (14773, 52, ' Private', 127315, ' Masters', 14, ' Married-civ-spouse', ' Prof-specialty', ' Husband', ' White', ' Male', 0, 0, 40, ' United-States', ' >50K'), (14780, 48, ' Private', 140782, ' Masters', 14, ' Married-civ-spouse', ' Exec-managerial', ' Wife', ' White', ' Female', 0, 1902, 38, ' United-States', ' >50K'), (14821, 35, ' Private', 200153, ' Masters', 14, ' Married-civ-spouse', ' Exec-managerial', ' Husband', ' White', ' Male', 0, 0, 45, ' United-States', ' >50K'), (14996, 43, ' Private', 258049, ' Masters', 14, ' Married-civ-spouse', ' Exec-managerial', ' Husband', ' White', ' Male', 7688, 0, 53, ' United-States', ' >50K'), (15000, 44, ' Private', 106900, ' Masters', 14, ' Married-civ-spouse', ' Prof-specialty', ' Husband', ' White', ' Male', 0, 0, 44, ' United-States', ' >50K'), (15187, 38, ' Private', 169104, ' Masters', 14, ' Married-civ-spouse', ' Exec-managerial', ' Husband', ' White', ' Male', 0, 0, 60, ' United-States', ' >50K'), (15252, 31, ' Private', 279015, ' Masters', 14, ' Married-civ-spouse', ' Exec-managerial', ' Husband', ' White', ' Male', 0, 2415, 70, ' Taiwan', ' >50K'), (15340, 31, ' Private', 156743, ' Masters', 14, ' Married-civ-spouse', ' Sales', ' Husband', ' White', ' Male', 0, 0, 76, ' United-States', ' >50K'), (15342, 46, ' Private', 144351, ' Masters', 14, ' Married-civ-spouse', ' Prof-specialty', ' Husband', ' White', ' Male', 0, 0, 40, ' United-States', ' >50K'), (15346, 32, ' Private', 348152, ' Masters', 14, ' Married-civ-spouse', ' Exec-managerial', ' Husband', ' White', ' Male', 0, 0, 40, ' United-States', ' >50K'), (15381, 51, ' Private', 108435, ' Masters', 14, ' Married-civ-spouse', ' Prof-specialty', ' Husband', ' White', ' Male', 0, 0, 47, ' United-States', ' >50K'), (15386, 45, ' Private', 101452, ' Masters', 14, ' Married-civ-spouse', ' Exec-managerial', ' Husband', ' White', ' Male', 15024, 0, 60, ' England', ' >50K'), (15407, 51, ' Private', 338620, ' Masters', 14, ' Married-civ-spouse', ' Exec-managerial', ' Husband', ' White', ' Male', 15024, 0, 60, ' United-States', ' >50K'), (15550, 43, ' Private', 456236, ' Masters', 14, ' Married-civ-spouse', ' Exec-managerial', ' Husband', ' White', ' Male', 0, 0, 50, ' United-States', ' >50K'), (15555, 45, ' Private', 189792, ' Masters', 14, ' Married-civ-spouse', ' Sales', ' Husband', ' White', ' Male', 0, 0, 40, ' United-States', ' >50K'), (15632, 58, ' Private', 115605, ' Masters', 14, ' Married-civ-spouse', ' Prof-specialty', ' Husband', ' White', ' Male', 0, 0, 50, ' United-States', ' >50K'), (15643, 35, ' Private', 320451, ' Masters', 14, ' Married-civ-spouse', ' Exec-managerial', ' Husband', ' Asian-Pac-Islander', ' Male', 0, 0, 65, ' Hong', ' >50K'), (15690, 48, ' Private', 109832, ' Masters', 14, ' Married-civ-spouse', ' Prof-specialty', ' Husband', ' White', ' Male', 0, 1902, 40, ' United-States', ' >50K'), (15697, 32, ' Private', 31740, ' Masters', 14, ' Married-civ-spouse', ' Prof-specialty', ' Husband', ' Asian-Pac-Islander', ' Male', 0, 0, 40, ' India', ' <=50K'), (15738, 43, ' Private', 196084, ' Masters', 14, ' Married-civ-spouse', ' Prof-specialty', ' Husband', ' White', ' Male', 0, 0, 55, ' United-States', ' <=50K'), (15833, 25, ' Private', 250038, ' Masters', 14, ' Married-civ-spouse', ' Machine-op-inspct', ' Not-in-family', ' White', ' Male', 0, 0, 40, ' Mexico', ' <=50K'), (15908, 56, ' Private', 110003, ' Masters', 14, ' Married-civ-spouse', ' Prof-specialty', ' Husband', ' White', ' Male', 0, 0, 40, ' United-States', ' >50K'), (16052, 59, ' Private', 159724, ' Masters', 14, ' Married-civ-spouse', ' Sales', ' Husband', ' White', ' Male', 7298, 0, 55, ' United-States', ' >50K'), (16078, 51, ' Private', 145714, ' Masters', 14, ' Married-civ-spouse', ' Exec-managerial', ' Husband', ' White', ' Male', 99999, 0, 50, ' ?', ' >50K'), (16112, 54, ' Private', 117674, ' Masters', 14, ' Married-civ-spouse', ' Prof-specialty', ' Husband', ' White', ' Male', 0, 0, 40, ' United-States', ' >50K'), (16144, 42, ' Private', 313945, ' Masters', 14, ' Married-civ-spouse', ' Sales', ' Husband', ' White', ' Male', 0, 0, 40, ' Ecuador', ' <=50K'), (16176, 36, ' Private', 202662, ' Masters', 14, ' Married-civ-spouse', ' Prof-specialty', ' Husband', ' White', ' Male', 0, 0, 40, ' United-States', ' >50K'), (16332, 50, ' Private', 220019, ' Masters', 14, ' Married-civ-spouse', ' Prof-specialty', ' Wife', ' White', ' Female', 0, 0, 40, ' United-States', ' <=50K'), (16335, 47, ' Private', 191411, ' Masters', 14, ' Married-civ-spouse', ' Prof-specialty', ' Husband', ' Asian-Pac-Islander', ' Male', 0, 0, 45, ' India', ' <=50K'), (16349, 66, ' Private', 192504, ' Masters', 14, ' Married-civ-spouse', ' Sales', ' Husband', ' White', ' Male', 0, 0, 40, ' United-States', ' <=50K'), (16438, 35, ' Private', 186126, ' Masters', 14, ' Married-civ-spouse', ' Prof-specialty', ' Husband', ' White', ' Male', 0, 0, 38, ' ?', ' <=50K'), (16495, 51, ' Private', 221672, ' Masters', 14, ' Married-civ-spouse', ' Sales', ' Husband', ' White', ' Male', 15024, 0, 50, ' United-States', ' >50K'), (16519, 61, ' Private', 160942, ' Masters', 14, ' Married-civ-spouse', ' Sales', ' Husband', ' White', ' Male', 3103, 0, 50, ' United-States', ' <=50K'), (16520, 44, ' Private', 107584, ' Masters', 14, ' Married-civ-spouse', ' Adm-clerical', ' Husband', ' White', ' Male', 3908, 0, 50, ' United-States', ' <=50K'), (16541, 33, ' Private', 201988, ' Masters', 14, ' Married-civ-spouse', ' Prof-specialty', ' Husband', ' White', ' Male', 0, 0, 45, ' United-States', ' <=50K'), (16622, 32, ' Private', 168443, ' Masters', 14, ' Married-civ-spouse', ' Exec-managerial', ' Wife', ' White', ' Female', 0, 0, 40, ' United-States', ' <=50K'), (16699, 53, ' Private', 254285, ' Masters', 14, ' Married-civ-spouse', ' Prof-specialty', ' Husband', ' White', ' Male', 0, 0, 40, ' United-States', ' >50K'), (16701, 49, ' Private', 281647, ' Masters', 14, ' Married-civ-spouse', ' Exec-managerial', ' Husband', ' White', ' Male', 0, 0, 45, ' United-States', ' >50K'), (16718, 37, ' Private', 112497, ' Masters', 14, ' Married-civ-spouse', ' Exec-managerial', ' Husband', ' White', ' Male', 0, 0, 40, ' United-States', ' >50K'), (16751, 42, ' Private', 384236, ' Masters', 14, ' Married-civ-spouse', ' Prof-specialty', ' Husband', ' White', ' Male', 7688, 0, 40, ' United-States', ' >50K'), (16777, 43, ' Private', 242968, ' Masters', 14, ' Married-civ-spouse', ' Exec-managerial', ' Husband', ' Asian-Pac-Islander', ' Male', 0, 0, 40, ' India', ' >50K'), (16799, 69, ' Private', 71489, ' Masters', 14, ' Married-civ-spouse', ' Prof-specialty', ' Husband', ' White', ' Male', 0, 0, 25, ' United-States', ' <=50K'), (16848, 40, ' Private', 32627, ' Masters', 14, ' Married-civ-spouse', ' Prof-specialty', ' Husband', ' White', ' Male', 0, 0, 60, ' United-States', ' <=50K'), (16917, 37, ' Private', 221850, ' Masters', 14, ' Married-civ-spouse', ' Exec-managerial', ' Husband', ' White', ' Male', 0, 0, 50, ' Ecuador', ' >50K'), (16961, 34, ' Private', 342709, ' Masters', 14, ' Married-civ-spouse', ' Exec-managerial', ' Husband', ' White', ' Male', 0, 0, 40, ' United-States', ' <=50K'), (16978, 54, ' Private', 57758, ' Masters', 14, ' Married-civ-spouse', ' Sales', ' Husband', ' White', ' Male', 0, 0, 68, ' United-States', ' >50K'), (16988, 50, ' Private', 104501, ' Masters', 14, ' Married-civ-spouse', ' Prof-specialty', ' Husband', ' White', ' Male', 0, 0, 40, ' United-States', ' >50K'), (16999, 42, ' Private', 145711, ' Masters', 14, ' Married-civ-spouse', ' Prof-specialty', ' Husband', ' White', ' Male', 0, 1902, 50, ' United-States', ' >50K'), (17052, 31, ' Private', 473133, ' Masters', 14, ' Married-civ-spouse', ' Prof-specialty', ' Husband', ' White', ' Male', 5178, 0, 40, ' United-States', ' >50K'), (17123, 45, ' Private', 120724, ' Masters', 14, ' Married-civ-spouse', ' Exec-managerial', ' Husband', ' White', ' Male', 4386, 0, 40, ' United-States', ' <=50K'), (17125, 49, ' Private', 423222, ' Masters', 14, ' Married-civ-spouse', ' Sales', ' Husband', ' White', ' Male', 0, 0, 50, ' United-States', ' >50K'), (17141, 29, ' Private', 205249, ' Masters', 14, ' Married-civ-spouse', ' Exec-managerial', ' Husband', ' Asian-Pac-Islander', ' Male', 0, 0, 40, ' Japan', ' <=50K'), (17153, 41, ' Private', 204662, ' Masters', 14, ' Married-civ-spouse', ' Exec-managerial', ' Husband', ' White', ' Male', 0, 0, 45, ' United-States', ' >50K'), (17178, 44, ' Private', 99651, ' Masters', 14, ' Married-civ-spouse', ' Exec-managerial', ' Husband', ' White', ' Male', 5178, 0, 40, ' United-States', ' >50K'), (17239, 52, ' Private', 180142, ' Masters', 14, ' Married-civ-spouse', ' Tech-support', ' Husband', ' White', ' Male', 0, 0, 45, ' United-States', ' <=50K'), (17329, 47, ' Private', 102308, ' Masters', 14, ' Married-civ-spouse', ' Exec-managerial', ' Husband', ' White', ' Male', 99999, 0, 50, ' United-States', ' >50K'), (17357, 42, ' Private', 141558, ' Masters', 14, ' Married-civ-spouse', ' Prof-specialty', ' Husband', ' White', ' Male', 0, 0, 60, ' United-States', ' <=50K'), (17366, 48, ' Private', 141511, ' Masters', 14, ' Married-civ-spouse', ' Exec-managerial', ' Husband', ' White', ' Male', 0, 0, 40, ' United-States', ' >50K'), (17392, 40, ' Private', 221172, ' Masters', 14, ' Married-civ-spouse', ' Exec-managerial', ' Husband', ' White', ' Male', 0, 0, 65, ' United-States', ' >50K'), (17421, 37, ' Private', 50837, ' Masters', 14, ' Married-civ-spouse', ' Prof-specialty', ' Husband', ' White', ' Male', 0, 0, 45, ' United-States', ' >50K'), (17484, 38, ' Private', 229700, ' Masters', 14, ' Married-civ-spouse', ' Prof-specialty', ' Husband', ' Black', ' Male', 0, 0, 40, ' United-States', ' >50K'), (17653, 57, ' Private', 159319, ' Masters', 14, ' Married-civ-spouse', ' Exec-managerial', ' Husband', ' White', ' Male', 0, 0, 50, ' United-States', ' >50K'), (17708, 39, ' Private', 76417, ' Masters', 14, ' Married-civ-spouse', ' Prof-specialty', ' Husband', ' White', ' Male', 0, 0, 40, ' United-States', ' >50K'), (17754, 31, ' Private', 183043, ' Masters', 14, ' Married-civ-spouse', ' Exec-managerial', ' Husband', ' White', ' Male', 0, 1977, 48, ' United-States', ' >50K'), (17923, 45, ' Private', 178341, ' Masters', 14, ' Married-civ-spouse', ' Prof-specialty', ' Husband', ' White', ' Male', 0, 0, 50, ' United-States', ' <=50K'), (17973, 46, ' Private', 102569, ' Masters', 14, ' Married-civ-spouse', ' Exec-managerial', ' Husband', ' White', ' Male', 15024, 0, 65, ' United-States', ' >50K'), (17990, 43, ' Private', 102180, ' Masters', 14, ' Married-civ-spouse', ' Exec-managerial', ' Husband', ' White', ' Male', 0, 0, 50, ' United-States', ' >50K'), (18192, 52, ' Private', 110748, ' Masters', 14, ' Married-civ-spouse', ' Prof-specialty', ' Husband', ' White', ' Male', 0, 0, 50, ' United-States', ' >50K'), (18521, 52, ' Private', 74660, ' Masters', 14, ' Married-civ-spouse', ' Exec-managerial', ' Husband', ' White', ' Male', 0, 0, 40, ' United-States', ' <=50K'), (18585, 54, ' Private', 37289, ' Masters', 14, ' Married-civ-spouse', ' Exec-managerial', ' Wife', ' White', ' Female', 0, 0, 55, ' United-States', ' >50K'), (18703, 27, ' Private', 302406, ' Masters', 14, ' Married-civ-spouse', ' Prof-specialty', ' Husband', ' White', ' Male', 0, 0, 55, ' United-States', ' <=50K'), (18728, 37, ' Private', 126569, ' Masters', 14, ' Married-civ-spouse', ' Exec-managerial', ' Husband', ' White', ' Male', 0, 1977, 40, ' United-States', ' >50K'), (19035, 36, ' Private', 280169, ' Masters', 14, ' Married-civ-spouse', ' Exec-managerial', ' Husband', ' White', ' Male', 0, 0, 50, ' United-States', ' >50K'), (19155, 47, ' Private', 98012, ' Masters', 14, ' Married-civ-spouse', ' Prof-specialty', ' Wife', ' White', ' Female', 7688, 0, 40, ' United-States', ' >50K'), (19246, 50, ' Private', 237868, ' Masters', 14, ' Married-civ-spouse', ' Exec-managerial', ' Husband', ' White', ' Male', 0, 0, 50, ' United-States', ' >50K'), (19281, 44, ' Private', 155930, ' Masters', 14, ' Married-civ-spouse', ' Prof-specialty', ' Husband', ' White', ' Male', 7688, 0, 55, ' United-States', ' >50K'), (19322, 45, ' Private', 266860, ' Masters', 14, ' Married-civ-spouse', ' Exec-managerial', ' Husband', ' White', ' Male', 15024, 0, 50, ' United-States', ' >50K'), (19377, 40, ' Private', 99604, ' Masters', 14, ' Married-civ-spouse', ' Prof-specialty', ' Wife', ' White', ' Female', 15024, 0, 24, ' United-States', ' >50K'), (19416, 44, ' Private', 151985, ' Masters', 14, ' Married-civ-spouse', ' Exec-managerial', ' Wife', ' White', ' Female', 0, 0, 24, ' United-States', ' >50K'), (19463, 48, ' Private', 148995, ' Masters', 14, ' Married-civ-spouse', ' Prof-specialty', ' Husband', ' White', ' Male', 0, 0, 55, ' United-States', ' >50K'), (19505, 41, ' Private', 116825, ' Masters', 14, ' Married-civ-spouse', ' Prof-specialty', ' Husband', ' White', ' Male', 0, 0, 55, ' United-States', ' >50K'), (19562, 51, ' Private', 22211, ' Masters', 14, ' Married-civ-spouse', ' Prof-specialty', ' Husband', ' White', ' Male', 0, 1902, 60, ' United-States', ' >50K'), (19642, 50, ' Private', 204447, ' Masters', 14, ' Married-civ-spouse', ' Exec-managerial', ' Husband', ' White', ' Male', 15024, 0, 65, ' United-States', ' >50K'), (19828, 55, ' Private', 208451, ' Masters', 14, ' Married-civ-spouse', ' Exec-managerial', ' Husband', ' White', ' Male', 0, 0, 40, ' United-States', ' >50K'), (19967, 45, ' Private', 145636, ' Masters', 14, ' Married-civ-spouse', ' Exec-managerial', ' Husband', ' White', ' Male', 0, 1977, 43, ' United-States', ' >50K'), (20045, 44, ' Private', 60414, ' Masters', 14, ' Married-civ-spouse', ' Exec-managerial', ' Husband', ' White', ' Male', 0, 0, 40, ' United-States', ' >50K'), (20092, 26, ' Private', 164488, ' Masters', 14, ' Married-civ-spouse', ' Prof-specialty', ' Husband', ' White', ' Male', 0, 1887, 40, ' United-States', ' >50K'), (20097, 35, ' Private', 224512, ' Masters', 14, ' Married-civ-spouse', ' Sales', ' Husband', ' White', ' Male', 0, 0, 55, ' United-States', ' >50K'), (20149, 48, ' Private', 185143, ' Masters', 14, ' Married-civ-spouse', ' Exec-managerial', ' Husband', ' White', ' Male', 0, 0, 40, ' United-States', ' <=50K'), (20159, 36, ' Private', 199439, ' Masters', 14, ' Married-civ-spouse', ' Exec-managerial', ' Husband', ' White', ' Male', 0, 0, 45, ' United-States', ' >50K'), (20199, 37, ' Private', 202027, ' Masters', 14, ' Married-civ-spouse', ' Adm-clerical', ' Husband', ' White', ' Male', 7688, 0, 50, ' United-States', ' >50K'), (20385, 40, ' Private', 154374, ' Masters', 14, ' Married-civ-spouse', ' Prof-specialty', ' Husband', ' White', ' Male', 7688, 0, 40, ' United-States', ' >50K'), (20406, 60, ' Private', 151369, ' Masters', 14, ' Married-civ-spouse', ' Exec-managerial', ' Husband', ' White', ' Male', 0, 0, 60, ' United-States', ' >50K'), (20443, 44, ' Private', 151089, ' Masters', 14, ' Married-civ-spouse', ' Prof-specialty', ' Husband', ' White', ' Male', 0, 1887, 60, ' United-States', ' >50K'), (20556, 33, ' Private', 192002, ' Masters', 14, ' Married-civ-spouse', ' Exec-managerial', ' Husband', ' White', ' Male', 7298, 0, 60, ' Canada', ' >50K'), (20609, 90, ' Private', 206667, ' Masters', 14, ' Married-civ-spouse', ' Prof-specialty', ' Wife', ' White', ' Female', 0, 0, 40, ' United-States', ' >50K'), (20637, 39, ' Private', 99146, ' Masters', 14, ' Married-civ-spouse', ' Prof-specialty', ' Husband', ' White', ' Male', 0, 0, 40, ' ?', ' >50K'), (20683, 50, ' Private', 138852, ' Masters', 14, ' Married-civ-spouse', ' Exec-managerial', ' Husband', ' White', ' Male', 15024, 0, 50, ' United-States', ' >50K'), (20735, 42, ' Private', 172297, ' Masters', 14, ' Married-civ-spouse', ' Adm-clerical', ' Husband', ' White', ' Male', 0, 1902, 40, ' United-States', ' >50K'), (20755, 50, ' Private', 234373, ' Masters', 14, ' Married-civ-spouse', ' Exec-managerial', ' Wife', ' White', ' Female', 0, 1485, 40, ' United-States', ' <=50K'), (20779, 27, ' Private', 298635, ' Masters', 14, ' Married-civ-spouse', ' Prof-specialty', ' Husband', ' Asian-Pac-Islander', ' Male', 0, 0, 40, ' Hong', ' >50K'), (20875, 46, ' Private', 196858, ' Masters', 14, ' Married-civ-spouse', ' Prof-specialty', ' Husband', ' White', ' Male', 0, 0, 35, ' United-States', ' >50K'), (20909, 42, ' Private', 124692, ' Masters', 14, ' Married-civ-spouse', ' Exec-managerial', ' Husband', ' White', ' Male', 0, 0, 40, ' United-States', ' >50K'), (21012, 35, ' Private', 185556, ' Masters', 14, ' Married-civ-spouse', ' Prof-specialty', ' Husband', ' White', ' Male', 0, 1887, 40, ' United-States', ' >50K'), (21127, 30, ' Private', 122889, ' Masters', 14, ' Married-civ-spouse', ' Prof-specialty', ' Husband', ' Asian-Pac-Islander', ' Male', 0, 0, 50, ' India', ' >50K'), (21160, 29, ' Private', 263005, ' Masters', 14, ' Married-civ-spouse', ' Exec-managerial', ' Husband', ' White', ' Male', 0, 0, 45, ' Germany', ' <=50K'), (21205, 50, ' Private', 158680, ' Masters', 14, ' Married-civ-spouse', ' Exec-managerial', ' Husband', ' White', ' Male', 0, 0, 50, ' United-States', ' >50K'), (21225, 47, ' Private', 202812, ' Masters', 14, ' Married-civ-spouse', ' Prof-specialty', ' Husband', ' White', ' Male', 0, 0, 40, ' ?', ' >50K'), (21341, 28, ' Private', 51461, ' Masters', 14, ' Married-civ-spouse', ' Prof-specialty', ' Husband', ' White', ' Male', 0, 0, 60, ' United-States', ' <=50K'), (21568, 31, ' Private', 176185, ' Masters', 14, ' Married-civ-spouse', ' Exec-managerial', ' Husband', ' White', ' Male', 0, 0, 60, ' France', ' >50K'), (21601, 45, ' Private', 154308, ' Masters', 14, ' Married-civ-spouse', ' Exec-managerial', ' Husband', ' Black', ' Male', 0, 0, 40, ' United-States', ' >50K'), (21657, 39, ' Private', 186183, ' Masters', 14, ' Married-civ-spouse', ' Prof-specialty', ' Husband', ' White', ' Male', 0, 0, 40, ' United-States', ' >50K'), (21679, 28, ' Private', 319768, ' Masters', 14, ' Married-civ-spouse', ' Sales', ' Husband', ' White', ' Male', 0, 0, 45, ' France', ' >50K'), (21883, 57, ' Private', 141570, ' Masters', 14, ' Married-civ-spouse', ' Exec-managerial', ' Husband', ' Black', ' Male', 0, 1977, 40, ' United-States', ' >50K'), (22025, 40, ' Private', 111483, ' Masters', 14, ' Married-civ-spouse', ' Exec-managerial', ' Husband', ' White', ' Male', 0, 0, 50, ' United-States', ' >50K'), (22049, 43, ' Private', 214781, ' Masters', 14, ' Married-civ-spouse', ' Prof-specialty', ' Husband', ' White', ' Male', 5178, 0, 40, ' United-States', ' >50K'), (22152, 57, ' Private', 170287, ' Masters', 14, ' Married-civ-spouse', ' Tech-support', ' Husband', ' White', ' Male', 0, 0, 40, ' United-States', ' >50K'), (22213, 42, ' Private', 169383, ' Masters', 14, ' Married-civ-spouse', ' Prof-specialty', ' Husband', ' White', ' Male', 0, 0, 40, ' United-States', ' >50K'), (22337, 31, ' Private', 189759, ' Masters', 14, ' Married-civ-spouse', ' Sales', ' Husband', ' White', ' Male', 0, 0, 40, ' United-States', ' >50K'), (22389, 50, ' Private', 168212, ' Masters', 14, ' Married-civ-spouse', ' Craft-repair', ' Husband', ' White', ' Male', 0, 1902, 45, ' United-States', ' >50K'), (22563, 34, ' Private', 88215, ' Masters', 14, ' Married-civ-spouse', ' Prof-specialty', ' Wife', ' Asian-Pac-Islander', ' Female', 0, 0, 40, ' China', ' >50K'), (22613, 38, ' Private', 103408, ' Masters', 14, ' Married-civ-spouse', ' Exec-managerial', ' Husband', ' Black', ' Male', 0, 0, 40, ' ?', ' <=50K'), (22639, 37, ' Private', 340614, ' Masters', 14, ' Married-civ-spouse', ' Prof-specialty', ' Husband', ' White', ' Male', 0, 0, 50, ' United-States', ' >50K'), (22683, 54, ' Private', 260052, ' Masters', 14, ' Married-civ-spouse', ' Prof-specialty', ' Husband', ' White', ' Male', 0, 0, 40, ' United-States', ' >50K'), (22990, 36, ' Private', 198841, ' Masters', 14, ' Married-civ-spouse', ' Exec-managerial', ' Husband', ' White', ' Male', 0, 0, 40, ' United-States', ' >50K'), (23039, 40, ' Private', 51290, ' Masters', 14, ' Married-civ-spouse', ' Prof-specialty', ' Husband', ' White', ' Male', 0, 0, 50, ' United-States', ' >50K'), (23129, 48, ' Private', 233802, ' Masters', 14, ' Married-civ-spouse', ' Exec-managerial', ' Husband', ' Black', ' Male', 0, 0, 45, ' United-States', ' <=50K'), (23302, 58, ' Private', 146477, ' Masters', 14, ' Married-civ-spouse', ' Exec-managerial', ' Husband', ' White', ' Male', 15024, 0, 40, ' Greece', ' >50K'), (23309, 57, ' Private', 191318, ' Masters', 14, ' Married-civ-spouse', ' Prof-specialty', ' Husband', ' White', ' Male', 0, 0, 40, ' United-States', ' >50K'), (23390, 45, ' Private', 260490, ' Masters', 14, ' Married-civ-spouse', ' Exec-managerial', ' Husband', ' White', ' Male', 0, 0, 50, ' United-States', ' >50K'), (23552, 53, ' Private', 229465, ' Masters', 14, ' Married-civ-spouse', ' Exec-managerial', ' Husband', ' White', ' Male', 0, 0, 55, ' United-States', ' >50K'), (23562, 49, ' Private', 155489, ' Masters', 14, ' Married-civ-spouse', ' Prof-specialty', ' Husband', ' White', ' Male', 0, 0, 50, ' United-States', ' >50K'), (23767, 34, ' Private', 163110, ' Masters', 14, ' Married-civ-spouse', ' Sales', ' Husband', ' White', ' Male', 0, 0, 40, ' United-States', ' <=50K'), (23873, 50, ' Private', 163948, ' Masters', 14, ' Married-civ-spouse', ' Sales', ' Husband', ' White', ' Male', 0, 0, 40, ' United-States', ' >50K'), (23961, 41, ' Private', 104892, ' Masters', 14, ' Married-civ-spouse', ' Exec-managerial', ' Husband', ' White', ' Male', 0, 0, 40, ' United-States', ' >50K'), (23964, 36, ' Private', 126675, ' Masters', 14, ' Married-civ-spouse', ' Prof-specialty', ' Husband', ' White', ' Male', 0, 1977, 50, ' United-States', ' >50K'), (23967, 42, ' Private', 183241, ' Masters', 14, ' Married-civ-spouse', ' Prof-specialty', ' Wife', ' White', ' Female', 0, 0, 45, ' United-States', ' >50K'), (24048, 32, ' Private', 53277, ' Masters', 14, ' Married-civ-spouse', ' Exec-managerial', ' Husband', ' White', ' Male', 0, 0, 60, ' United-States', ' >50K'), (24124, 50, ' Private', 206862, ' Masters', 14, ' Married-civ-spouse', ' Exec-managerial', ' Husband', ' White', ' Male', 0, 0, 65, ' United-States', ' >50K'), (24318, 44, ' Private', 186916, ' Masters', 14, ' Married-civ-spouse', ' Exec-managerial', ' Husband', ' White', ' Male', 0, 0, 50, ' United-States', ' >50K'), (24399, 44, ' Private', 104196, ' Masters', 14, ' Married-civ-spouse', ' Exec-managerial', ' Husband', ' White', ' Male', 0, 0, 45, ' United-States', ' >50K'), (24442, 46, ' Private', 113390, ' Masters', 14, ' Married-civ-spouse', ' Adm-clerical', ' Husband', ' White', ' Male', 0, 1740, 60, ' United-States', ' <=50K'), (24464, 42, ' Private', 187720, ' Masters', 14, ' Married-civ-spouse', ' Sales', ' Husband', ' White', ' Male', 15024, 0, 50, ' ?', ' >50K'), (24475, 31, ' Private', 263561, ' Masters', 14, ' Married-civ-spouse', ' Exec-managerial', ' Husband', ' White', ' Male', 0, 0, 40, ' United-States', ' >50K'), (24640, 54, ' Private', 68985, ' Masters', 14, ' Married-civ-spouse', ' Sales', ' Husband', ' White', ' Male', 0, 0, 55, ' United-States', ' >50K'), (24661, 47, ' Private', 120781, ' Masters', 14, ' Married-civ-spouse', ' Exec-managerial', ' Husband', ' Asian-Pac-Islander', ' Male', 15024, 0, 40, ' ?', ' >50K'), (24733, 33, ' Private', 55291, ' Masters', 14, ' Married-civ-spouse', ' Exec-managerial', ' Husband', ' White', ' Male', 0, 0, 40, ' United-States', ' >50K'), (24737, 57, ' Private', 112840, ' Masters', 14, ' Married-civ-spouse', ' Prof-specialty', ' Husband', ' White', ' Male', 0, 0, 55, ' United-States', ' >50K'), (24743, 51, ' Private', 162238, ' Masters', 14, ' Married-civ-spouse', ' Exec-managerial', ' Husband', ' White', ' Male', 0, 1887, 47, ' United-States', ' >50K'), (24922, 68, ' Private', 208478, ' Masters', 14, ' Married-civ-spouse', ' Prof-specialty', ' Husband', ' White', ' Male', 0, 0, 18, ' ?', ' <=50K'), (25011, 53, ' Private', 123011, ' Masters', 14, ' Married-civ-spouse', ' Exec-managerial', ' Husband', ' White', ' Male', 0, 0, 45, ' United-States', ' >50K'), (25025, 63, ' Private', 308028, ' Masters', 14, ' Married-civ-spouse', ' Tech-support', ' Husband', ' White', ' Male', 5013, 0, 40, ' United-States', ' <=50K'), (25104, 38, ' Private', 320451, ' Masters', 14, ' Married-civ-spouse', ' Prof-specialty', ' Husband', ' Asian-Pac-Islander', ' Male', 0, 0, 40, ' ?', ' <=50K'), (25107, 44, ' Private', 54310, ' Masters', 14, ' Married-civ-spouse', ' Prof-specialty', ' Husband', ' White', ' Male', 7298, 0, 40, ' United-States', ' >50K'), (25214, 46, ' Private', 197332, ' Masters', 14, ' Married-civ-spouse', ' Prof-specialty', ' Husband', ' White', ' Male', 7688, 0, 46, ' United-States', ' >50K'), (25355, 45, ' Private', 102308, ' Masters', 14, ' Married-civ-spouse', ' Exec-managerial', ' Husband', ' White', ' Male', 15024, 0, 60, ' United-States', ' >50K'), (25437, 54, ' Private', 215990, ' Masters', 14, ' Married-civ-spouse', ' Exec-managerial', ' Husband', ' White', ' Male', 0, 1887, 44, ' United-States', ' >50K'), (25502, 48, ' Private', 287480, ' Masters', 14, ' Married-civ-spouse', ' Tech-support', ' Husband', ' White', ' Male', 0, 0, 40, ' United-States', ' >50K'), (25539, 39, ' Private', 134367, ' Masters', 14, ' Married-civ-spouse', ' Prof-specialty', ' Wife', ' White', ' Female', 0, 1977, 24, ' United-States', ' >50K'), (25645, 36, ' Private', 52327, ' Masters', 14, ' Married-civ-spouse', ' Prof-specialty', ' Husband', ' Other', ' Male', 0, 0, 40, ' Iran', ' >50K'), (25697, 46, ' Private', 110171, ' Masters', 14, ' Married-civ-spouse', ' Prof-specialty', ' Husband', ' White', ' Male', 15024, 0, 50, ' United-States', ' >50K'), (25728, 45, ' Private', 33794, ' Masters', 14, ' Married-civ-spouse', ' Other-service', ' Husband', ' White', ' Male', 0, 0, 40, ' United-States', ' <=50K'), (25776, 67, ' Private', 105252, ' Masters', 14, ' Married-civ-spouse', ' Exec-managerial', ' Husband', ' White', ' Male', 0, 0, 40, ' United-States', ' >50K'), (25824, 54, ' Private', 176240, ' Masters', 14, ' Married-civ-spouse', ' Transport-moving', ' Husband', ' White', ' Male', 7688, 0, 60, ' United-States', ' >50K'), (25846, 58, ' Private', 170108, ' Masters', 14, ' Married-civ-spouse', ' Exec-managerial', ' Husband', ' White', ' Male', 0, 0, 40, ' United-States', ' >50K'), (25893, 49, ' Private', 185385, ' Masters', 14, ' Married-civ-spouse', ' Prof-specialty', ' Husband', ' White', ' Male', 0, 0, 50, ' United-States', ' >50K'), (25913, 51, ' Private', 172046, ' Masters', 14, ' Married-civ-spouse', ' Exec-managerial', ' Husband', ' White', ' Male', 0, 1977, 50, ' United-States', ' >50K'), (26006, 42, ' Private', 92288, ' Masters', 14, ' Married-civ-spouse', ' Sales', ' Husband', ' Asian-Pac-Islander', ' Male', 0, 0, 40, ' ?', ' <=50K'), (26010, 28, ' Private', 109001, ' Masters', 14, ' Married-civ-spouse', ' Prof-specialty', ' Husband', ' White', ' Male', 0, 0, 38, ' United-States', ' >50K'), (26037, 65, ' Private', 344152, ' Masters', 14, ' Married-civ-spouse', ' Prof-specialty', ' Husband', ' White', ' Male', 5556, 0, 50, ' United-States', ' >50K'), (26058, 60, ' Private', 239576, ' Masters', 14, ' Married-civ-spouse', ' Transport-moving', ' Husband', ' White', ' Male', 0, 0, 10, ' United-States', ' <=50K'), (26185, 33, ' Private', 594187, ' Masters', 14, ' Married-civ-spouse', ' Prof-specialty', ' Husband', ' White', ' Male', 0, 0, 45, ' United-States', ' >50K'), (26334, 26, ' Private', 173593, ' Masters', 14, ' Married-civ-spouse', ' Machine-op-inspct', ' Husband', ' White', ' Male', 0, 0, 20, ' Canada', ' <=50K'), (26355, 34, ' Private', 99872, ' Masters', 14, ' Married-civ-spouse', ' Exec-managerial', ' Husband', ' Asian-Pac-Islander', ' Male', 3103, 0, 40, ' India', ' >50K'), (26414, 36, ' Private', 145576, ' Masters', 14, ' Married-civ-spouse', ' Adm-clerical', ' Husband', ' White', ' Male', 0, 1977, 40, ' Japan', ' >50K'), (26493, 31, ' Private', 309620, ' Masters', 14, ' Married-civ-spouse', ' Prof-specialty', ' Husband', ' Asian-Pac-Islander', ' Male', 0, 0, 6, ' South', ' <=50K'), (26534, 35, ' Private', 119098, ' Masters', 14, ' Married-civ-spouse', ' Exec-managerial', ' Husband', ' White', ' Male', 0, 0, 40, ' United-States', ' <=50K'), (26590, 43, ' Private', 183273, ' Masters', 14, ' Married-civ-spouse', ' Exec-managerial', ' Wife', ' White', ' Female', 15024, 0, 32, ' United-States', ' >50K'), (26682, 49, ' Private', 340755, ' Masters', 14, ' Married-civ-spouse', ' Sales', ' Husband', ' White', ' Male', 0, 0, 40, ' United-States', ' >50K'), (26721, 52, ' Private', 260938, ' Masters', 14, ' Married-civ-spouse', ' Sales', ' Husband', ' White', ' Male', 0, 0, 40, ' United-States', ' <=50K'), (26765, 49, ' Private', 129513, ' Masters', 14, ' Married-civ-spouse', ' Sales', ' Husband', ' White', ' Male', 0, 0, 45, ' United-States', ' <=50K'), (26856, 47, ' Private', 102628, ' Masters', 14, ' Married-civ-spouse', ' Exec-managerial', ' Husband', ' White', ' Male', 15024, 0, 55, ' United-States', ' >50K'), (26974, 63, ' Private', 30813, ' Masters', 14, ' Married-civ-spouse', ' Prof-specialty', ' Husband', ' White', ' Male', 0, 0, 50, ' United-States', ' >50K'), (26978, 38, ' Private', 300975, ' Masters', 14, ' Married-civ-spouse', ' Other-service', ' Husband', ' Black', ' Male', 0, 1485, 40, ' ?', ' <=50K'), (27070, 35, ' Private', 160120, ' Masters', 14, ' Married-civ-spouse', ' Exec-managerial', ' Husband', ' Asian-Pac-Islander', ' Male', 0, 0, 50, ' United-States', ' >50K'), (27225, 51, ' Private', 48343, ' Masters', 14, ' Married-civ-spouse', ' Exec-managerial', ' Husband', ' White', ' Male', 7298, 0, 50, ' United-States', ' >50K'), (27281, 33, ' Private', 188246, ' Masters', 14, ' Married-civ-spouse', ' Exec-managerial', ' Husband', ' White', ' Male', 7298, 0, 45, ' United-States', ' >50K'), (27328, 29, ' Private', 162551, ' Masters', 14, ' Married-civ-spouse', ' Prof-specialty', ' Wife', ' Asian-Pac-Islander', ' Female', 0, 0, 40, ' Hong', ' >50K'), (27345, 41, ' Private', 242089, ' Masters', 14, ' Married-civ-spouse', ' Exec-managerial', ' Husband', ' White', ' Male', 0, 0, 45, ' United-States', ' <=50K'), (27491, 41, ' Private', 56795, ' Masters', 14, ' Married-civ-spouse', ' Prof-specialty', ' Wife', ' White', ' Female', 0, 0, 45, ' England', ' <=50K'), (27584, 51, ' Private', 123429, ' Masters', 14, ' Married-civ-spouse', ' Exec-managerial', ' Husband', ' White', ' Male', 0, 0, 50, ' United-States', ' >50K'), (27599, 39, ' Private', 108140, ' Masters', 14, ' Married-civ-spouse', ' Exec-managerial', ' Husband', ' White', ' Male', 0, 0, 50, ' United-States', ' >50K'), (27621, 44, ' Private', 165346, ' Masters', 14, ' Married-civ-spouse', ' Exec-managerial', ' Husband', ' White', ' Male', 0, 0, 40, ' United-States', ' >50K'), (27638, 34, ' Private', 379798, ' Masters', 14, ' Married-civ-spouse', ' Exec-managerial', ' Husband', ' White', ' Male', 0, 0, 40, ' United-States', ' >50K'), (27639, 38, ' Private', 227945, ' Masters', 14, ' Married-civ-spouse', ' Prof-specialty', ' Husband', ' White', ' Male', 99999, 0, 65, ' United-States', ' >50K'), (27669, 61, ' Private', 80896, ' Masters', 14, ' Married-civ-spouse', ' Prof-specialty', ' Husband', ' Asian-Pac-Islander', ' Male', 0, 0, 45, ' India', ' >50K'), (27708, 38, ' Private', 98360, ' Masters', 14, ' Married-civ-spouse', ' Prof-specialty', ' Husband', ' White', ' Male', 0, 0, 40, ' United-States', ' >50K'), (27721, 48, ' Private', 207277, ' Masters', 14, ' Married-civ-spouse', ' Exec-managerial', ' Husband', ' White', ' Male', 15024, 0, 40, ' United-States', ' >50K'), (27809, 56, ' Private', 37394, ' Masters', 14, ' Married-civ-spouse', ' Exec-managerial', ' Husband', ' White', ' Male', 0, 0, 40, ' United-States', ' <=50K'), (27861, 47, ' Private', 181363, ' Masters', 14, ' Married-civ-spouse', ' Prof-specialty', ' Husband', ' White', ' Male', 0, 0, 40, ' United-States', ' >50K'), (27862, 54, ' Private', 338620, ' Masters', 14, ' Married-civ-spouse', ' Exec-managerial', ' Husband', ' White', ' Male', 0, 0, 52, ' United-States', ' >50K'), (27924, 68, ' Private', 211287, ' Masters', 14, ' Married-civ-spouse', ' Exec-managerial', ' Husband', ' White', ' Male', 0, 2392, 40, ' United-States', ' >50K'), (27952, 30, ' Private', 169496, ' Masters', 14, ' Married-civ-spouse', ' Other-service', ' Husband', ' White', ' Male', 0, 0, 15, ' United-States', ' >50K'), (27953, 53, ' Private', 22978, ' Masters', 14, ' Married-civ-spouse', ' Exec-managerial', ' Wife', ' White', ' Female', 0, 0, 50, ' United-States', ' >50K'), (28075, 41, ' Private', 211253, ' Masters', 14, ' Married-civ-spouse', ' Exec-managerial', ' Wife', ' White', ' Female', 0, 0, 40, ' United-States', ' >50K'), (28135, 36, ' Private', 171393, ' Masters', 14, ' Married-civ-spouse', ' Prof-specialty', ' Husband', ' White', ' Male', 7298, 0, 55, ' United-States', ' >50K'), (28184, 32, ' Private', 209538, ' Masters', 14, ' Married-civ-spouse', ' Exec-managerial', ' Husband', ' White', ' Male', 0, 0, 55, ' United-States', ' >50K'), (28287, 36, ' Private', 223433, ' Masters', 14, ' Married-civ-spouse', ' Sales', ' Husband', ' White', ' Male', 7688, 0, 50, ' United-States', ' >50K'), (28291, 54, ' Private', 98436, ' Masters', 14, ' Married-civ-spouse', ' Other-service', ' Husband', ' White', ' Male', 0, 0, 40, ' United-States', ' <=50K'), (28321, 28, ' Private', 173944, ' Masters', 14, ' Married-civ-spouse', ' Prof-specialty', ' Husband', ' White', ' Male', 0, 0, 40, ' United-States', ' >50K'), (28378, 46, ' Private', 261059, ' Masters', 14, ' Married-civ-spouse', ' Prof-specialty', ' Husband', ' White', ' Male', 0, 1977, 50, ' United-States', ' >50K'), (28432, 42, ' Private', 198341, ' Masters', 14, ' Married-civ-spouse', ' Prof-specialty', ' Husband', ' Asian-Pac-Islander', ' Male', 0, 1902, 55, ' India', ' >50K'), (28451, 53, ' Private', 70387, ' Masters', 14, ' Married-civ-spouse', ' Prof-specialty', ' Husband', ' Asian-Pac-Islander', ' Male', 4386, 0, 40, ' India', ' >50K'), (28536, 47, ' Private', 158286, ' Masters', 14, ' Married-civ-spouse', ' Exec-managerial', ' Husband', ' White', ' Male', 0, 0, 50, ' United-States', ' >50K'), (28556, 34, ' Private', 165737, ' Masters', 14, ' Married-civ-spouse', ' Prof-specialty', ' Husband', ' Asian-Pac-Islander', ' Male', 0, 0, 43, ' India', ' >50K'), (28560, 51, ' Private', 82578, ' Masters', 14, ' Married-civ-spouse', ' Prof-specialty', ' Husband', ' White', ' Male', 0, 0, 38, ' Canada', ' >50K'), (28568, 63, ' Private', 167967, ' Masters', 14, ' Married-civ-spouse', ' Handlers-cleaners', ' Husband', ' White', ' Male', 0, 0, 46, ' United-States', ' <=50K'), (28670, 48, ' Private', 148995, ' Masters', 14, ' Married-civ-spouse', ' Exec-managerial', ' Husband', ' White', ' Male', 0, 0, 40, ' United-States', ' >50K'), (28689, 36, ' Private', 386726, ' Masters', 14, ' Married-civ-spouse', ' Prof-specialty', ' Wife', ' White', ' Female', 0, 1977, 44, ' United-States', ' >50K'), (28697, 48, ' Private', 254291, ' Masters', 14, ' Married-civ-spouse', ' Prof-specialty', ' Husband', ' White', ' Male', 0, 0, 40, ' United-States', ' >50K'), (28722, 37, ' Private', 174150, ' Masters', 14, ' Married-civ-spouse', ' Exec-managerial', ' Husband', ' White', ' Male', 0, 0, 40, ' United-States', ' >50K'), (28747, 48, ' Private', 204629, ' Masters', 14, ' Married-civ-spouse', ' Exec-managerial', ' Husband', ' White', ' Male', 0, 0, 50, ' United-States', ' >50K'), (28773, 51, ' Private', 123053, ' Masters', 14, ' Married-civ-spouse', ' Prof-specialty', ' Husband', ' Asian-Pac-Islander', ' Male', 5013, 0, 40, ' India', ' <=50K'), (28850, 61, ' Private', 147280, ' Masters', 14, ' Married-civ-spouse', ' Exec-managerial', ' Husband', ' White', ' Male', 0, 0, 60, ' United-States', ' >50K'), (28898, 35, ' Private', 206951, ' Masters', 14, ' Married-civ-spouse', ' Sales', ' Husband', ' White', ' Male', 0, 0, 40, ' United-States', ' >50K'), (28936, 46, ' Private', 268022, ' Masters', 14, ' Married-civ-spouse', ' Exec-managerial', ' Husband', ' White', ' Male', 0, 0, 55, ' ?', ' >50K'), (28945, 56, ' Private', 282023, ' Masters', 14, ' Married-civ-spouse', ' Prof-specialty', ' Husband', ' White', ' Male', 0, 0, 40, ' United-States', ' >50K'), (28969, 33, ' Private', 181372, ' Masters', 14, ' Married-civ-spouse', ' Exec-managerial', ' Wife', ' White', ' Female', 0, 0, 50, ' United-States', ' >50K'), (28996, 54, ' Private', 139850, ' Masters', 14, ' Married-civ-spouse', ' Exec-managerial', ' Husband', ' Asian-Pac-Islander', ' Male', 0, 0, 45, ' United-States', ' >50K'), (29029, 38, ' Private', 277248, ' Masters', 14, ' Married-civ-spouse', ' Exec-managerial', ' Husband', ' White', ' Male', 0, 0, 60, ' Cuba', ' >50K'), (29045, 59, ' Private', 81973, ' Masters', 14, ' Married-civ-spouse', ' Exec-managerial', ' Husband', ' Asian-Pac-Islander', ' Male', 0, 0, 40, ' United-States', ' >50K'), (29056, 33, ' Private', 79923, ' Masters', 14, ' Married-civ-spouse', ' Prof-specialty', ' Husband', ' White', ' Male', 0, 0, 45, ' United-States', ' >50K'), (29540, 53, ' Private', 285621, ' Masters', 14, ' Married-civ-spouse', ' Adm-clerical', ' Wife', ' White', ' Female', 0, 0, 40, ' United-States', ' >50K'), (29680, 49, ' Private', 187370, ' Masters', 14, ' Married-civ-spouse', ' Exec-managerial', ' Husband', ' White', ' Male', 15024, 0, 50, ' United-States', ' >50K'), (29740, 50, ' Private', 22211, ' Masters', 14, ' Married-civ-spouse', ' Prof-specialty', ' Husband', ' White', ' Male', 7688, 0, 50, ' United-States', ' >50K'), (29866, 47, ' Private', 158451, ' Masters', 14, ' Married-civ-spouse', ' Prof-specialty', ' Wife', ' White', ' Female', 0, 0, 2, ' United-States', ' >50K'), (29877, 27, ' Private', 115945, ' Masters', 14, ' Married-civ-spouse', ' Exec-managerial', ' Husband', ' White', ' Male', 0, 0, 45, ' United-States', ' >50K'), (29899, 38, ' Private', 91039, ' Masters', 14, ' Married-civ-spouse', ' Exec-managerial', ' Husband', ' White', ' Male', 0, 0, 65, ' United-States', ' >50K'), (29953, 55, ' Private', 368797, ' Masters', 14, ' Married-civ-spouse', ' Exec-managerial', ' Husband', ' White', ' Male', 0, 1977, 60, ' United-States', ' >50K'), (29985, 44, ' Private', 456236, ' Masters', 14, ' Married-civ-spouse', ' Adm-clerical', ' Husband', ' White', ' Male', 0, 0, 40, ' United-States', ' <=50K'), (30071, 36, ' Private', 218689, ' Masters', 14, ' Married-civ-spouse', ' Sales', ' Husband', ' White', ' Male', 0, 1977, 50, ' United-States', ' >50K'), (30089, 45, ' Private', 481987, ' Masters', 14, ' Married-civ-spouse', ' Tech-support', ' Husband', ' White', ' Male', 0, 0, 18, ' United-States', ' >50K'), (30098, 57, ' Private', 49893, ' Masters', 14, ' Married-civ-spouse', ' Prof-specialty', ' Husband', ' White', ' Male', 0, 0, 60, ' United-States', ' >50K'), (30156, 56, ' Private', 158752, ' Masters', 14, ' Married-civ-spouse', ' Exec-managerial', ' Wife', ' White', ' Female', 0, 0, 50, ' United-States', ' <=50K'), (30234, 44, ' Private', 147265, ' Masters', 14, ' Married-civ-spouse', ' Prof-specialty', ' Husband', ' White', ' Male', 0, 0, 40, ' United-States', ' >50K'), (30247, 51, ' Private', 154342, ' Masters', 14, ' Married-civ-spouse', ' Prof-specialty', ' Husband', ' White', ' Male', 7688, 0, 45, ' United-States', ' >50K'), (30252, 43, ' Private', 214781, ' Masters', 14, ' Married-civ-spouse', ' Exec-managerial', ' Husband', ' White', ' Male', 0, 0, 45, ' United-States', ' <=50K'), (30265, 59, ' Private', 322691, ' Masters', 14, ' Married-civ-spouse', ' Prof-specialty', ' Husband', ' White', ' Male', 0, 0, 50, ' United-States', ' >50K'), (30382, 38, ' Private', 108140, ' Masters', 14, ' Married-civ-spouse', ' Prof-specialty', ' Husband', ' White', ' Male', 0, 0, 50, ' United-States', ' >50K'), (30413, 48, ' Private', 131309, ' Masters', 14, ' Married-civ-spouse', ' Prof-specialty', ' Husband', ' White', ' Male', 0, 0, 45, ' United-States', ' >50K'), (30514, 49, ' Private', 175622, ' Masters', 14, ' Married-civ-spouse', ' Prof-specialty', ' Husband', ' White', ' Male', 0, 0, 40, ' United-States', ' <=50K'), (30534, 29, ' Private', 134566, ' Masters', 14, ' Married-civ-spouse', ' Sales', ' Husband', ' White', ' Male', 0, 0, 20, ' United-States', ' <=50K'), (30565, 47, ' Private', 46044, ' Masters', 14, ' Married-civ-spouse', ' Exec-managerial', ' Husband', ' White', ' Male', 0, 0, 40, ' United-States', ' <=50K'), (30650, 45, ' Private', 341762, ' Masters', 14, ' Married-civ-spouse', ' Exec-managerial', ' Husband', ' White', ' Male', 0, 0, 65, ' United-States', ' >50K'), (30689, 39, ' Private', 91367, ' Masters', 14, ' Married-civ-spouse', ' Exec-managerial', ' Husband', ' White', ' Male', 0, 1848, 45, ' United-States', ' >50K'), (30735, 39, ' Private', 176335, ' Masters', 14, ' Married-civ-spouse', ' Exec-managerial', ' Husband', ' White', ' Male', 7688, 0, 65, ' United-States', ' >50K'), (30767, 53, ' Private', 110977, ' Masters', 14, ' Married-civ-spouse', ' Exec-managerial', ' Husband', ' White', ' Male', 0, 1902, 50, ' United-States', ' >50K'), (30868, 67, ' Private', 94610, ' Masters', 14, ' Married-civ-spouse', ' Sales', ' Husband', ' White', ' Male', 0, 0, 30, ' United-States', ' >50K'), (30912, 38, ' Private', 185848, ' Masters', 14, ' Married-civ-spouse', ' Exec-managerial', ' Husband', ' White', ' Male', 99999, 0, 70, ' United-States', ' >50K'), (30944, 49, ' Private', 193366, ' Masters', 14, ' Married-civ-spouse', ' Exec-managerial', ' Husband', ' White', ' Male', 0, 0, 65, ' United-States', ' >50K'), (31074, 26, ' Private', 76491, ' Masters', 14, ' Married-civ-spouse', ' Prof-specialty', ' Husband', ' White', ' Male', 0, 0, 20, ' United-States', ' <=50K'), (31197, 30, ' Private', 122042, ' Masters', 14, ' Married-civ-spouse', ' Exec-managerial', ' Husband', ' White', ' Male', 0, 0, 45, ' United-States', ' >50K'), (31301, 60, ' Private', 85995, ' Masters', 14, ' Married-civ-spouse', ' Adm-clerical', ' Husband', ' Asian-Pac-Islander', ' Male', 0, 0, 50, ' South', ' >50K'), (31356, 23, ' Private', 143003, ' Masters', 14, ' Married-civ-spouse', ' Prof-specialty', ' Husband', ' Asian-Pac-Islander', ' Male', 0, 1887, 50, ' India', ' >50K'), (31399, 50, ' Private', 201882, ' Masters', 14, ' Married-civ-spouse', ' Machine-op-inspct', ' Husband', ' White', ' Male', 0, 0, 30, ' United-States', ' <=50K'), (31419, 44, ' Private', 267717, ' Masters', 14, ' Married-civ-spouse', ' Prof-specialty', ' Husband', ' White', ' Male', 0, 0, 42, ' United-States', ' >50K'), (31424, 30, ' Private', 182771, ' Masters', 14, ' Married-civ-spouse', ' Prof-specialty', ' Husband', ' Asian-Pac-Islander', ' Male', 0, 0, 40, ' United-States', ' >50K'), (31433, 39, ' Private', 198841, ' Masters', 14, ' Married-civ-spouse', ' Prof-specialty', ' Husband', ' White', ' Male', 7688, 0, 45, ' United-States', ' >50K'), (31434, 53, ' Private', 53197, ' Masters', 14, ' Married-civ-spouse', ' Prof-specialty', ' Husband', ' White', ' Male', 3103, 0, 40, ' United-States', ' >50K'), (31449, 55, ' Private', 70088, ' Masters', 14, ' Married-civ-spouse', ' Prof-specialty', ' Husband', ' White', ' Male', 0, 0, 40, ' United-States', ' >50K'), (31450, 36, ' Private', 199346, ' Masters', 14, ' Married-civ-spouse', ' Prof-specialty', ' Wife', ' White', ' Female', 0, 0, 50, ' United-States', ' >50K'), (31455, 30, ' Private', 378009, ' Masters', 14, ' Married-civ-spouse', ' Exec-managerial', ' Husband', ' White', ' Male', 0, 0, 50, ' United-States', ' >50K'), (31467, 35, ' Private', 75855, ' Masters', 14, ' Married-civ-spouse', ' Prof-specialty', ' Husband', ' Black', ' Male', 7298, 0, 40, ' ?', ' >50K'), (31591, 59, ' Private', 59469, ' Masters', 14, ' Married-civ-spouse', ' Tech-support', ' Husband', ' White', ' Male', 0, 0, 40, ' Iran', ' <=50K'), (31595, 39, ' Private', 72338, ' Masters', 14, ' Married-civ-spouse', ' Prof-specialty', ' Husband', ' Asian-Pac-Islander', ' Male', 0, 0, 40, ' Philippines', ' >50K'), (31726, 50, ' Private', 176157, ' Masters', 14, ' Married-civ-spouse', ' Exec-managerial', ' Husband', ' White', ' Male', 0, 0, 50, ' United-States', ' >50K'), (31801, 30, ' Private', 341051, ' Masters', 14, ' Married-civ-spouse', ' Exec-managerial', ' Husband', ' White', ' Male', 15024, 0, 60, ' United-States', ' >50K'), (31815, 43, ' Private', 346321, ' Masters', 14, ' Married-civ-spouse', ' Prof-specialty', ' Husband', ' White', ' Male', 0, 0, 45, ' United-States', ' >50K'), (31827, 47, ' Private', 155664, ' Masters', 14, ' Married-civ-spouse', ' Exec-managerial', ' Husband', ' White', ' Male', 99999, 0, 55, ' United-States', ' >50K'), (31906, 48, ' Private', 379883, ' Masters', 14, ' Married-civ-spouse', ' Prof-specialty', ' Husband', ' White', ' Male', 0, 0, 40, ' Cuba', ' >50K'), (31945, 49, ' Private', 123681, ' Masters', 14, ' Married-civ-spouse', ' Prof-specialty', ' Husband', ' White', ' Male', 0, 0, 43, ' United-States', ' >50K'), (32008, 43, ' Private', 174295, ' Masters', 14, ' Married-civ-spouse', ' Prof-specialty', ' Husband', ' White', ' Male', 0, 0, 55, ' United-States', ' <=50K'), (32048, 32, ' Private', 313835, ' Masters', 14, ' Married-civ-spouse', ' Prof-specialty', ' Husband', ' White', ' Male', 0, 0, 40, ' United-States', ' >50K'), (32113, 40, ' Private', 137225, ' Masters', 14, ' Married-civ-spouse', ' Exec-managerial', ' Husband', ' White', ' Male', 0, 0, 40, ' United-States', ' >50K'), (32199, 25, ' Private', 178025, ' Masters', 14, ' Married-civ-spouse', ' Prof-specialty', ' Husband', ' White', ' Male', 0, 0, 40, ' United-States', ' <=50K'), (32266, 31, ' Private', 183801, ' Masters', 14, ' Married-civ-spouse', ' Prof-specialty', ' Husband', ' White', ' Male', 0, 1902, 43, ' United-States', ' >50K'), (32299, 61, ' Private', 232719, ' Masters', 14, ' Married-civ-spouse', ' Prof-specialty', ' Husband', ' White', ' Male', 0, 0, 50, ' United-States', ' <=50K'), (32364, 41, ' Private', 122215, ' Masters', 14, ' Married-civ-spouse', ' Prof-specialty', ' Husband', ' White', ' Male', 15024, 0, 40, ' United-States', ' >50K'), (32456, 33, ' Private', 139057, ' Masters', 14, ' Married-civ-spouse', ' Tech-support', ' Husband', ' Asian-Pac-Islander', ' Male', 0, 0, 50, ' United-States', ' >50K'), (32471, 34, ' Private', 30673, ' Masters', 14, ' Married-civ-spouse', ' Prof-specialty', ' Husband', ' White', ' Male', 0, 0, 55, ' United-States', ' <=50K'), (32479, 41, ' Private', 201495, ' Masters', 14, ' Married-civ-spouse', ' Exec-managerial', ' Husband', ' White', ' Male', 0, 0, 40, ' United-States', ' >50K'), (32512, 46, ' Private', 42972, ' Masters', 14, ' Married-civ-spouse', ' Prof-specialty', ' Wife', ' White', ' Female', 0, 0, 22, ' United-States', ' >50K'), (32553, 53, ' Private', 321865, ' Masters', 14, ' Married-civ-spouse', ' Exec-managerial', ' Husband', ' White', ' Male', 0, 0, 40, ' United-States', ' >50K')]\n"
     ]
    }
   ],
   "source": [
    "cursor.execute('SELECT * FROM sqladb WHERE education=\" Masters\" AND workclass=\" Private\" AND marital_status=\" Married-civ-spouse\"')\n",
    "output = cursor.fetchall()\n",
    "print(output)\n"
   ]
  },
  {
   "cell_type": "code",
   "execution_count": 16,
   "metadata": {},
   "outputs": [
    {
     "name": "stdout",
     "output_type": "stream",
     "text": [
      "   index  age workclass  fnlwgt education  education_num       marital_status  \\\n",
      "0      4   37   Private  284582   Masters             14   Married-civ-spouse   \n",
      "1     86   33   Private  202051   Masters             14   Married-civ-spouse   \n",
      "2     99   76   Private  124191   Masters             14   Married-civ-spouse   \n",
      "3    187   31   Private   99928   Masters             14   Married-civ-spouse   \n",
      "4    197   35   Private  138992   Masters             14   Married-civ-spouse   \n",
      "5    310   34   Private  142897   Masters             14   Married-civ-spouse   \n",
      "6    360   62   Private  270092   Masters             14   Married-civ-spouse   \n",
      "7    404   41   Private  445382   Masters             14   Married-civ-spouse   \n",
      "8    434   33   Private  208405   Masters             14   Married-civ-spouse   \n",
      "9    467   49   Private  192776   Masters             14   Married-civ-spouse   \n",
      "\n",
      "         occupation     relationship                 race      sex  \\\n",
      "0   Exec-managerial             Wife                White   Female   \n",
      "1    Prof-specialty          Husband                White     Male   \n",
      "2   Exec-managerial          Husband                White     Male   \n",
      "3    Prof-specialty             Wife                White   Female   \n",
      "4    Prof-specialty   Other-relative                White     Male   \n",
      "5   Exec-managerial          Husband   Asian-Pac-Islander     Male   \n",
      "6    Prof-specialty          Husband                White     Male   \n",
      "7   Exec-managerial          Husband                White     Male   \n",
      "8    Prof-specialty          Husband                White     Male   \n",
      "9   Exec-managerial          Husband                White     Male   \n",
      "\n",
      "   capital_gain  capital_loss  hours_per_week  native_country  income  \n",
      "0             0             0              40   United-States   <=50K  \n",
      "1             0             0              50   United-States   <=50K  \n",
      "2             0             0              40   United-States    >50K  \n",
      "3             0             0              50   United-States   <=50K  \n",
      "4          7298             0              40   United-States    >50K  \n",
      "5          7298             0              35          Taiwan    >50K  \n",
      "6             0             0              40   United-States    >50K  \n",
      "7             0          1977              65   United-States    >50K  \n",
      "8             0             0              50   United-States    >50K  \n",
      "9             0          1977              45   United-States    >50K  \n"
     ]
    }
   ],
   "source": [
    "# USE Pandas Print because it is cleaner\n",
    "print(pd.read_sql_query('SELECT * FROM sqladb WHERE education=\" Masters\" AND workclass=\" Private\" AND marital_status=\" Married-civ-spouse\"', connection).head(10))"
   ]
  },
  {
   "cell_type": "code",
   "execution_count": 18,
   "metadata": {},
   "outputs": [
    {
     "data": {
      "text/plain": [
       "[(40.882799782962564, 90, 17),\n",
       " (36.96391615813213, 90, 17),\n",
       " (30.22222222222222, 46, 23),\n",
       " (39.03147109050988, 90, 17),\n",
       " (42.16920806689621, 90, 17),\n",
       " (41.2112676056338, 90, 17),\n",
       " (32.16569343065694, 90, 17),\n",
       " (37.71528471528472, 90, 17),\n",
       " (34.94962063732929, 90, 17),\n",
       " (41.7248322147651, 81, 17),\n",
       " (40.51763285024155, 90, 17),\n",
       " (38.9537750385208, 90, 17),\n",
       " (37.353972602739724, 90, 17),\n",
       " (37.022629310344826, 73, 17),\n",
       " (40.19787100814026, 90, 17)]"
      ]
     },
     "metadata": {},
     "output_type": "display_data"
    }
   ],
   "source": [
    "cursor.execute('SELECT avg(age) AS average, max(age) AS maximum, min(age) AS minimum FROM sqladb GROUP BY occupation')\n",
    "output = cursor.fetchall()\n",
    "display(output)"
   ]
  },
  {
   "cell_type": "code",
   "execution_count": 19,
   "metadata": {},
   "outputs": [
    {
     "data": {
      "text/plain": [
       "[(' ?', 90),\n",
       " (' Adm-clerical', 90),\n",
       " (' Armed-Forces', 46),\n",
       " (' Craft-repair', 90),\n",
       " (' Exec-managerial', 90),\n",
       " (' Farming-fishing', 90),\n",
       " (' Handlers-cleaners', 90),\n",
       " (' Machine-op-inspct', 90),\n",
       " (' Other-service', 90),\n",
       " (' Priv-house-serv', 81),\n",
       " (' Prof-specialty', 90),\n",
       " (' Protective-serv', 90),\n",
       " (' Sales', 90),\n",
       " (' Tech-support', 73),\n",
       " (' Transport-moving', 90)]"
      ]
     },
     "metadata": {},
     "output_type": "display_data"
    }
   ],
   "source": [
    "cursor.execute('SELECT occupation, max(age) FROM sqladb GROUP BY occupation')\n",
    "output = cursor.fetchall()\n",
    "display(output)"
   ]
  },
  {
   "cell_type": "code",
   "execution_count": 20,
   "metadata": {},
   "outputs": [
    {
     "data": {
      "text/plain": [
       "[(' ?', 40.882799782962564),\n",
       " (' Adm-clerical', 36.96391615813213),\n",
       " (' Armed-Forces', 30.22222222222222),\n",
       " (' Craft-repair', 39.03147109050988),\n",
       " (' Exec-managerial', 42.16920806689621),\n",
       " (' Farming-fishing', 41.2112676056338),\n",
       " (' Handlers-cleaners', 32.16569343065694),\n",
       " (' Machine-op-inspct', 37.71528471528472),\n",
       " (' Other-service', 34.94962063732929),\n",
       " (' Priv-house-serv', 41.7248322147651),\n",
       " (' Prof-specialty', 40.51763285024155),\n",
       " (' Protective-serv', 38.9537750385208),\n",
       " (' Sales', 37.353972602739724),\n",
       " (' Tech-support', 37.022629310344826),\n",
       " (' Transport-moving', 40.19787100814026)]"
      ]
     },
     "metadata": {},
     "output_type": "display_data"
    }
   ],
   "source": [
    "cursor.execute('SELECT occupation, avg(age) FROM sqladb GROUP BY occupation')\n",
    "output = cursor.fetchall()\n",
    "display(output)"
   ]
  },
  {
   "cell_type": "code",
   "execution_count": 21,
   "metadata": {},
   "outputs": [
    {
     "data": {
      "text/plain": [
       "[(' ?', 17),\n",
       " (' Cambodia', 18),\n",
       " (' Canada', 17),\n",
       " (' China', 22),\n",
       " (' Columbia', 18),\n",
       " (' Cuba', 21),\n",
       " (' Dominican-Republic', 18),\n",
       " (' Ecuador', 21),\n",
       " (' El-Salvador', 17),\n",
       " (' England', 17),\n",
       " (' France', 20),\n",
       " (' Germany', 18),\n",
       " (' Greece', 22),\n",
       " (' Guatemala', 19),\n",
       " (' Haiti', 17),\n",
       " (' Holand-Netherlands', 32),\n",
       " (' Honduras', 18),\n",
       " (' Hong', 19),\n",
       " (' Hungary', 24),\n",
       " (' India', 17),\n",
       " (' Iran', 22),\n",
       " (' Ireland', 23),\n",
       " (' Italy', 19),\n",
       " (' Jamaica', 18),\n",
       " (' Japan', 19),\n",
       " (' Laos', 19),\n",
       " (' Mexico', 17),\n",
       " (' Nicaragua', 19),\n",
       " (' Outlying-US(Guam-USVI-etc)', 21),\n",
       " (' Peru', 17),\n",
       " (' Philippines', 17),\n",
       " (' Poland', 17),\n",
       " (' Portugal', 19),\n",
       " (' Puerto-Rico', 17),\n",
       " (' Scotland', 18),\n",
       " (' South', 19),\n",
       " (' Taiwan', 20),\n",
       " (' Thailand', 19),\n",
       " (' Trinadad&Tobago', 17),\n",
       " (' United-States', 17),\n",
       " (' Vietnam', 19),\n",
       " (' Yugoslavia', 20)]"
      ]
     },
     "metadata": {},
     "output_type": "display_data"
    }
   ],
   "source": [
    "cursor.execute('SELECT native_country, min(age) FROM sqladb GROUP BY native_country')\n",
    "output = cursor.fetchall()\n",
    "display(output)"
   ]
  },
  {
   "cell_type": "code",
   "execution_count": 22,
   "metadata": {},
   "outputs": [
    {
     "data": {
      "text/plain": [
       "[(' ?', 90),\n",
       " (' Cambodia', 65),\n",
       " (' Canada', 80),\n",
       " (' China', 75),\n",
       " (' Columbia', 75),\n",
       " (' Cuba', 82),\n",
       " (' Dominican-Republic', 78),\n",
       " (' Ecuador', 90),\n",
       " (' El-Salvador', 79),\n",
       " (' England', 90),\n",
       " (' France', 64),\n",
       " (' Germany', 74),\n",
       " (' Greece', 65),\n",
       " (' Guatemala', 66),\n",
       " (' Haiti', 63),\n",
       " (' Holand-Netherlands', 32),\n",
       " (' Honduras', 58),\n",
       " (' Hong', 60),\n",
       " (' Hungary', 81),\n",
       " (' India', 61),\n",
       " (' Iran', 63),\n",
       " (' Ireland', 68),\n",
       " (' Italy', 77),\n",
       " (' Jamaica', 66),\n",
       " (' Japan', 61),\n",
       " (' Laos', 56),\n",
       " (' Mexico', 81),\n",
       " (' Nicaragua', 67),\n",
       " (' Outlying-US(Guam-USVI-etc)', 63),\n",
       " (' Peru', 69),\n",
       " (' Philippines', 90),\n",
       " (' Poland', 85),\n",
       " (' Portugal', 78),\n",
       " (' Puerto-Rico', 90),\n",
       " (' Scotland', 62),\n",
       " (' South', 90),\n",
       " (' Taiwan', 61),\n",
       " (' Thailand', 55),\n",
       " (' Trinadad&Tobago', 61),\n",
       " (' United-States', 90),\n",
       " (' Vietnam', 73),\n",
       " (' Yugoslavia', 66)]"
      ]
     },
     "metadata": {},
     "output_type": "display_data"
    }
   ],
   "source": [
    "cursor.execute('SELECT native_country, max(age) FROM sqladb GROUP BY native_country')\n",
    "output = cursor.fetchall()\n",
    "display(output)"
   ]
  },
  {
   "cell_type": "code",
   "execution_count": 23,
   "metadata": {},
   "outputs": [
    {
     "data": {
      "text/plain": [
       "[(' ?', 38.72555746140652),\n",
       " (' Cambodia', 37.78947368421053),\n",
       " (' Canada', 42.54545454545455),\n",
       " (' China', 42.53333333333333),\n",
       " (' Columbia', 39.71186440677966),\n",
       " (' Cuba', 45.76842105263158),\n",
       " (' Dominican-Republic', 37.72857142857143),\n",
       " (' Ecuador', 36.642857142857146),\n",
       " (' El-Salvador', 34.132075471698116),\n",
       " (' England', 41.15555555555556),\n",
       " (' France', 38.96551724137931),\n",
       " (' Germany', 39.25547445255474),\n",
       " (' Greece', 46.206896551724135),\n",
       " (' Guatemala', 32.421875),\n",
       " (' Haiti', 38.27272727272727),\n",
       " (' Holand-Netherlands', 32.0),\n",
       " (' Honduras', 33.84615384615385),\n",
       " (' Hong', 33.65),\n",
       " (' Hungary', 49.38461538461539),\n",
       " (' India', 38.09),\n",
       " (' Iran', 39.41860465116279),\n",
       " (' Ireland', 36.458333333333336),\n",
       " (' Italy', 46.42465753424658),\n",
       " (' Jamaica', 35.592592592592595),\n",
       " (' Japan', 38.24193548387097),\n",
       " (' Laos', 34.72222222222222),\n",
       " (' Mexico', 33.29082426127527),\n",
       " (' Nicaragua', 33.61764705882353),\n",
       " (' Outlying-US(Guam-USVI-etc)', 38.714285714285715),\n",
       " (' Peru', 35.25806451612903),\n",
       " (' Philippines', 39.44444444444444),\n",
       " (' Poland', 43.11666666666667),\n",
       " (' Portugal', 40.2972972972973),\n",
       " (' Puerto-Rico', 40.50877192982456),\n",
       " (' Scotland', 40.416666666666664),\n",
       " (' South', 38.75),\n",
       " (' Taiwan', 33.8235294117647),\n",
       " (' Thailand', 34.94444444444444),\n",
       " (' Trinadad&Tobago', 41.31578947368421),\n",
       " (' United-States', 38.65566183276766),\n",
       " (' Vietnam', 34.059701492537314),\n",
       " (' Yugoslavia', 38.8125)]"
      ]
     },
     "metadata": {},
     "output_type": "display_data"
    }
   ],
   "source": [
    "cursor.execute('SELECT native_country, avg(age) FROM sqladb GROUP BY native_country')\n",
    "output = cursor.fetchall()\n",
    "display(output)"
   ]
  },
  {
   "cell_type": "code",
   "execution_count": 25,
   "metadata": {},
   "outputs": [
    {
     "data": {
      "text/plain": [
       "<sqlite3.Cursor at 0xb8ef5e0>"
      ]
     },
     "execution_count": 25,
     "metadata": {},
     "output_type": "execute_result"
    }
   ],
   "source": [
    "cursor.execute('ALTER TABLE sqladb ADD net_capital_gain varchar(200)')\n"
   ]
  },
  {
   "cell_type": "code",
   "execution_count": 26,
   "metadata": {},
   "outputs": [
    {
     "data": {
      "text/plain": [
       "[(0, 'index', 'BIGINT', 0, None, 0),\n",
       " (1, 'age', 'BIGINT', 0, None, 0),\n",
       " (2, 'workclass', 'TEXT', 0, None, 0),\n",
       " (3, 'fnlwgt', 'BIGINT', 0, None, 0),\n",
       " (4, 'education', 'TEXT', 0, None, 0),\n",
       " (5, 'education_num', 'BIGINT', 0, None, 0),\n",
       " (6, 'marital_status', 'TEXT', 0, None, 0),\n",
       " (7, 'occupation', 'TEXT', 0, None, 0),\n",
       " (8, 'relationship', 'TEXT', 0, None, 0),\n",
       " (9, 'race', 'TEXT', 0, None, 0),\n",
       " (10, 'sex', 'TEXT', 0, None, 0),\n",
       " (11, 'capital_gain', 'BIGINT', 0, None, 0),\n",
       " (12, 'capital_loss', 'BIGINT', 0, None, 0),\n",
       " (13, 'hours_per_week', 'BIGINT', 0, None, 0),\n",
       " (14, 'native_country', 'TEXT', 0, None, 0),\n",
       " (15, 'income', 'TEXT', 0, None, 0),\n",
       " (16, 'net_capital_gain', 'varchar(200)', 0, None, 0)]"
      ]
     },
     "execution_count": 26,
     "metadata": {},
     "output_type": "execute_result"
    }
   ],
   "source": [
    "cursor.execute('PRAGMA TABLE_INFO({})'.format(\"sqladb\"))\n",
    "cursor.fetchall()"
   ]
  },
  {
   "cell_type": "code",
   "execution_count": 27,
   "metadata": {},
   "outputs": [
    {
     "data": {
      "text/plain": [
       "<sqlite3.Cursor at 0xb8ef5e0>"
      ]
     },
     "execution_count": 27,
     "metadata": {},
     "output_type": "execute_result"
    }
   ],
   "source": [
    "cursor.execute('UPDATE sqladb SET net_capital_gain=capital_gain-capital_loss')"
   ]
  },
  {
   "cell_type": "code",
   "execution_count": 28,
   "metadata": {},
   "outputs": [
    {
     "name": "stdout",
     "output_type": "stream",
     "text": [
      "   index  age          workclass  fnlwgt      education  education_num  \\\n",
      "0      0   50   Self-emp-not-inc   83311      Bachelors             13   \n",
      "1      1   38            Private  215646        HS-grad              9   \n",
      "2      2   53            Private  234721           11th              7   \n",
      "3      3   28            Private  338409      Bachelors             13   \n",
      "4      4   37            Private  284582        Masters             14   \n",
      "5      5   49            Private  160187            9th              5   \n",
      "6      6   52   Self-emp-not-inc  209642        HS-grad              9   \n",
      "7      7   31            Private   45781        Masters             14   \n",
      "8      8   42            Private  159449      Bachelors             13   \n",
      "9      9   37            Private  280464   Some-college             10   \n",
      "\n",
      "           marital_status          occupation    relationship    race  \\\n",
      "0      Married-civ-spouse     Exec-managerial         Husband   White   \n",
      "1                Divorced   Handlers-cleaners   Not-in-family   White   \n",
      "2      Married-civ-spouse   Handlers-cleaners         Husband   Black   \n",
      "3      Married-civ-spouse      Prof-specialty            Wife   Black   \n",
      "4      Married-civ-spouse     Exec-managerial            Wife   White   \n",
      "5   Married-spouse-absent       Other-service   Not-in-family   Black   \n",
      "6      Married-civ-spouse     Exec-managerial         Husband   White   \n",
      "7           Never-married      Prof-specialty   Not-in-family   White   \n",
      "8      Married-civ-spouse     Exec-managerial         Husband   White   \n",
      "9      Married-civ-spouse     Exec-managerial         Husband   Black   \n",
      "\n",
      "       sex  capital_gain  capital_loss  hours_per_week  native_country  \\\n",
      "0     Male             0             0              13   United-States   \n",
      "1     Male             0             0              40   United-States   \n",
      "2     Male             0             0              40   United-States   \n",
      "3   Female             0             0              40            Cuba   \n",
      "4   Female             0             0              40   United-States   \n",
      "5   Female             0             0              16         Jamaica   \n",
      "6     Male             0             0              45   United-States   \n",
      "7   Female         14084             0              50   United-States   \n",
      "8     Male          5178             0              40   United-States   \n",
      "9     Male             0             0              80   United-States   \n",
      "\n",
      "   income net_capital_gain  \n",
      "0   <=50K                0  \n",
      "1   <=50K                0  \n",
      "2   <=50K                0  \n",
      "3   <=50K                0  \n",
      "4   <=50K                0  \n",
      "5   <=50K                0  \n",
      "6    >50K                0  \n",
      "7    >50K            14084  \n",
      "8    >50K             5178  \n",
      "9    >50K                0  \n"
     ]
    }
   ],
   "source": [
    "print(pd.read_sql_query(\"SELECT * FROM sqladb\", connection).head(10))"
   ]
  },
  {
   "cell_type": "code",
   "execution_count": 31,
   "metadata": {},
   "outputs": [
    {
     "name": "stdout",
     "output_type": "stream",
     "text": [
      "   index  age          workclass  fnlwgt      education  education_num  \\\n",
      "0      0   50   Self-emp-not-inc   83311      Bachelors             13   \n",
      "1      1   38            Private  215646        HS-grad              9   \n",
      "2      2   53            Private  234721           11th              7   \n",
      "3      3   28            Private  338409      Bachelors             13   \n",
      "4      4   37            Private  284582        Masters             14   \n",
      "5      5   49            Private  160187            9th              5   \n",
      "6      6   52   Self-emp-not-inc  209642        HS-grad              9   \n",
      "7      7   31            Private   45781        Masters             14   \n",
      "8      8   42            Private  159449      Bachelors             13   \n",
      "9      9   37            Private  280464   Some-college             10   \n",
      "\n",
      "           marital_status          occupation    relationship    race  \\\n",
      "0      Married-civ-spouse     Exec-managerial         Husband   White   \n",
      "1                Divorced   Handlers-cleaners   Not-in-family   White   \n",
      "2      Married-civ-spouse   Handlers-cleaners         Husband   Black   \n",
      "3      Married-civ-spouse      Prof-specialty            Wife   Black   \n",
      "4      Married-civ-spouse     Exec-managerial            Wife   White   \n",
      "5   Married-spouse-absent       Other-service   Not-in-family   Black   \n",
      "6      Married-civ-spouse     Exec-managerial         Husband   White   \n",
      "7           Never-married      Prof-specialty   Not-in-family   White   \n",
      "8      Married-civ-spouse     Exec-managerial         Husband   White   \n",
      "9      Married-civ-spouse     Exec-managerial         Husband   Black   \n",
      "\n",
      "       sex  capital_gain  capital_loss  hours_per_week  native_country  \\\n",
      "0     Male             0             0              13   United-States   \n",
      "1     Male             0             0              40   United-States   \n",
      "2     Male             0             0              40   United-States   \n",
      "3   Female             0             0              40            Cuba   \n",
      "4   Female             0             0              40   United-States   \n",
      "5   Female             0             0              16         Jamaica   \n",
      "6     Male             0             0              45   United-States   \n",
      "7   Female         14084             0              50   United-States   \n",
      "8     Male          5178             0              40   United-States   \n",
      "9     Male             0             0              80   United-States   \n",
      "\n",
      "   income net_capital_gain  \n",
      "0   <=50K                0  \n",
      "1   <=50K                0  \n",
      "2   <=50K                0  \n",
      "3   <=50K                0  \n",
      "4   <=50K                0  \n",
      "5   <=50K                0  \n",
      "6    >50K                0  \n",
      "7    >50K            14084  \n",
      "8    >50K             5178  \n",
      "9    >50K                0  \n"
     ]
    }
   ],
   "source": [
    "cursor.execute('UPDATE sqladb SET net_capital_gain=capital_gain-capital_loss')\n",
    "print(pd.read_sql_query(\"SELECT * FROM sqladb\", connection).head(10))"
   ]
  },
  {
   "cell_type": "code",
   "execution_count": null,
   "metadata": {},
   "outputs": [],
   "source": []
  }
 ],
 "metadata": {
  "kernelspec": {
   "display_name": "Python 3",
   "language": "python",
   "name": "python3"
  },
  "language_info": {
   "codemirror_mode": {
    "name": "ipython",
    "version": 3
   },
   "file_extension": ".py",
   "mimetype": "text/x-python",
   "name": "python",
   "nbconvert_exporter": "python",
   "pygments_lexer": "ipython3",
   "version": "3.6.4"
  }
 },
 "nbformat": 4,
 "nbformat_minor": 2
}
